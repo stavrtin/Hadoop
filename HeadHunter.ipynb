{
 "cells": [
  {
   "cell_type": "code",
   "execution_count": null,
   "id": "b87bc15e",
   "metadata": {
    "id": "b87bc15e"
   },
   "outputs": [],
   "source": [
    "import pandas as pd\n",
    "import numpy as np"
   ]
  },
  {
   "cell_type": "markdown",
   "id": "1FpdqK6gp7FK",
   "metadata": {
    "id": "1FpdqK6gp7FK"
   },
   "source": [
    "# Выгрузка данных"
   ]
  },
  {
   "cell_type": "code",
   "execution_count": null,
   "id": "VhVDKYJoumzY",
   "metadata": {
    "id": "VhVDKYJoumzY"
   },
   "outputs": [],
   "source": [
    "import requests"
   ]
  },
  {
   "cell_type": "code",
   "execution_count": null,
   "id": "2a7d79a9",
   "metadata": {
    "id": "2a7d79a9"
   },
   "outputs": [],
   "source": [
    "SPECIALIZATION_IT = \"Информационные технологии, интернет, телеком\""
   ]
  },
  {
   "cell_type": "code",
   "execution_count": null,
   "id": "f4e0db48",
   "metadata": {
    "id": "f4e0db48"
   },
   "outputs": [],
   "source": [
    "VACANCIES_PER_PAGE = 100\n",
    "\n",
    "API_AREAS_REQUEST = 'https://api.hh.ru/areas'\n",
    "API_VACANCIES_REQUEST = 'https://api.hh.ru/vacancies'\n",
    "API_SPECIALIZATIONS_REQUEST = 'https://api.hh.ru/specializations'\n",
    "\n",
    "CURRANCY_USD = \"USD\"\n",
    "CURRANCY_EUR = \"EUR\"\n",
    "\n",
    "EXCHANGE_RATE_USD = 71\n",
    "EXCHANGE_RATE_EUR = 86\n",
    "\n",
    "TAX_RATE = 0.13"
   ]
  },
  {
   "cell_type": "code",
   "execution_count": null,
   "id": "44dadab4",
   "metadata": {
    "id": "44dadab4"
   },
   "outputs": [],
   "source": [
    "COUNTRY_RUSSIA = 'Россия'"
   ]
  },
  {
   "cell_type": "code",
   "execution_count": null,
   "id": "d984790d",
   "metadata": {
    "id": "d984790d"
   },
   "outputs": [],
   "source": [
    "COMMENT_REGION_PROCESSING_START = 'Обрабатываю регионы:'\n",
    "COMMENT_REGION_PROCESSING_FINISH = 'Готово! Найдено вакансий: '\n",
    "COMMENT_KEYWORD_PROCESSING_START = 'Ищу вакансии по ключевому слову '"
   ]
  },
  {
   "cell_type": "markdown",
   "id": "KsjAt_9JuwXg",
   "metadata": {
    "id": "KsjAt_9JuwXg"
   },
   "source": [
    "## Получение данных"
   ]
  },
  {
   "cell_type": "code",
   "execution_count": null,
   "id": "f581ffe0",
   "metadata": {
    "id": "f581ffe0"
   },
   "outputs": [],
   "source": [
    "def get_russian_regions():\n",
    "    ''' Возвращает DataFrame регионов РФ'''\n",
    "    regions = requests.get(API_AREAS_REQUEST)\n",
    "    \n",
    "    region_frame = pd.DataFrame(regions.json())\n",
    "    \n",
    "    russia_index = region_frame[region_frame['name'] == COUNTRY_RUSSIA].index.tolist()[0]\n",
    "    russia_regions_frame = pd.DataFrame(region_frame['areas'][russia_index])\n",
    "    \n",
    "    return russia_regions_frame"
   ]
  },
  {
   "cell_type": "code",
   "execution_count": null,
   "id": "d7cfebf5",
   "metadata": {
    "id": "d7cfebf5"
   },
   "outputs": [],
   "source": [
    "def get_it_specialization_index():\n",
    "    ''' Возвращает id специализации \"Информационные технологии, интернет, телеком\"'''\n",
    "    specializations = requests.get(API_SPECIALIZATIONS_REQUEST)\n",
    "    specializations_frame = pd.DataFrame(specializations.json())\n",
    "    it_id = specializations_frame.loc[specializations_frame['name'] == SPECIALIZATION_IT]['id'].values[0]\n",
    "    it_id\n",
    "    \n",
    "    return it_id"
   ]
  },
  {
   "cell_type": "code",
   "execution_count": null,
   "id": "JcCGhKogemXb",
   "metadata": {
    "id": "JcCGhKogemXb"
   },
   "outputs": [],
   "source": [
    "def get_region_vacancies_count(keyword, region, specialization_index):\n",
    "    ''' Возвращает количество вакансий в регионе region, \n",
    "    найденных по ключевому слову keyword,\n",
    "    со специализацией с индексом specialization_index'''    \n",
    "\n",
    "    result = requests.get(\n",
    "        API_VACANCIES_REQUEST, \n",
    "        params = {\n",
    "            'text': keyword, \n",
    "            'per_page' : 1, \n",
    "            'search_field' : 'name', \n",
    "            'area': region,\n",
    "            'specialization' : specialization_index\n",
    "        }\n",
    "    )\n",
    "            \n",
    "    if(result.status_code == 200):\n",
    "        return int(result.json()['found'])\n",
    "\n",
    "    return 0"
   ]
  },
  {
   "cell_type": "code",
   "execution_count": null,
   "id": "WPV9SdNfhxDv",
   "metadata": {
    "id": "WPV9SdNfhxDv"
   },
   "outputs": [],
   "source": [
    "def get_region_vacancies(keyword, region, specialization_index, page):\n",
    "    \n",
    "    ''' Возвращает список вакансий в регионе region, \n",
    "    найденных по ключевому слову keyword,\n",
    "    со специализацией с индексом specialization_index'''\n",
    "\n",
    "    response = requests.get(\n",
    "        API_VACANCIES_REQUEST,\n",
    "        params = {\n",
    "            'text': keyword, \n",
    "            'area': region, \n",
    "            'per_page' : VACANCIES_PER_PAGE, \n",
    "            'search_field' : 'name', \n",
    "            'page': page,\n",
    "            'specialization' : specialization_index\n",
    "            }\n",
    "    )\n",
    "    if(response.status_code == 200):\n",
    "        found_vacancies = response.json()['items']\n",
    "\n",
    "        return found_vacancies\n",
    "    \n",
    "    return None"
   ]
  },
  {
   "cell_type": "code",
   "execution_count": null,
   "id": "1303ff7c",
   "metadata": {
    "id": "1303ff7c"
   },
   "outputs": [],
   "source": [
    "def get_vacancies_data_frame(keyword_list, region = None):\n",
    "    ''' Возвращает DataFrame вакансий, найденных по ключевым словам из списка keyword_list'''\n",
    "    vacancies_list = []\n",
    "    \n",
    "    russia_regions_frame = get_russian_regions()\n",
    "    it_specialization_index = get_it_specialization_index();\n",
    "\n",
    "    if (region is not None):\n",
    "        russia_regions_list = [region]\n",
    "    else: \n",
    "        russia_regions_list = [x for x in russia_regions_frame['id']]\n",
    "\n",
    "    for keyword in [keyword_list]:\n",
    "        \n",
    "        print(COMMENT_KEYWORD_PROCESSING_START + keyword)\n",
    "        print(COMMENT_REGION_PROCESSING_START)\n",
    "            \n",
    "        for region in russia_regions_list:\n",
    "            found = get_region_vacancies_count(keyword, region, it_specialization_index)\n",
    "            region_name = russia_regions_frame.loc[russia_regions_frame['id'] == region]['name'].values[0];\n",
    "            print(region_name)\n",
    "            for page in range((found // VACANCIES_PER_PAGE) + 1):\n",
    "                found_vacancies = get_region_vacancies(keyword, region, it_specialization_index, page)\n",
    "                found_vacancies = enrich_vacancies_list(found_vacancies, region_name)\n",
    "\n",
    "                if (found_vacancies is not None):\n",
    "                    vacancies_list = vacancies_list + found_vacancies\n",
    "\n",
    "    print(COMMENT_REGION_PROCESSING_FINISH)\n",
    "    print(len(vacancies_list))\n",
    "    \n",
    "    full_vacancies_frame = pd.DataFrame(vacancies_list)\n",
    "    \n",
    "    return full_vacancies_frame"
   ]
  },
  {
   "cell_type": "code",
   "execution_count": null,
   "id": "JMJLTI6Nfisz",
   "metadata": {
    "id": "JMJLTI6Nfisz"
   },
   "outputs": [],
   "source": [
    "def get_vacancy(id):\n",
    "    \n",
    "    ''' Возвращает вакансию в виде словаря по ее id'''\n",
    "    response = requests.get(API_VACANCIES_REQUEST + \"/\" + str(id))\n",
    "    \n",
    "    if(response.status_code == 200):\n",
    "        return response.json()\n",
    "    \n",
    "    return None"
   ]
  },
  {
   "cell_type": "code",
   "execution_count": null,
   "id": "-34cIZoSrwOy",
   "metadata": {
    "id": "-34cIZoSrwOy"
   },
   "outputs": [],
   "source": [
    "def enrich_vacancies_list(vacancies, region_name):\n",
    "    ''' Обогащает вакансии из vacancies данными из детальной информации по каждой \n",
    "    вакансии, а также названием региона region_name'''\n",
    "    for vacancy in vacancies:\n",
    "        details = get_vacancy(vacancy['id'])\n",
    "        vacancy['description'] = details['description']\n",
    "        vacancy['experience'] = details['experience']\n",
    "        vacancy['key_skills'] = details['key_skills']\n",
    "    \n",
    "        vacancy['region'] = region_name\n",
    "    return vacancies"
   ]
  },
  {
   "cell_type": "markdown",
   "id": "o3HyZsak-4eR",
   "metadata": {
    "id": "o3HyZsak-4eR"
   },
   "source": [
    "## Нормализация данных"
   ]
  },
  {
   "cell_type": "code",
   "execution_count": null,
   "id": "522afbb1",
   "metadata": {
    "id": "522afbb1"
   },
   "outputs": [],
   "source": [
    "def normolize_employer(vacancies_frame):\n",
    "    ''' Нормализует данные о работодателе '''\n",
    "    normolized_vacancies_frame = vacancies_frame.copy()\n",
    "    \n",
    "    normalized_employer = pd.json_normalize(normolized_vacancies_frame['employer'])\n",
    "    normalized_employer = normalized_employer.rename(columns={'name':'employer_name'})\n",
    "    normolized_vacancies_frame = pd.concat([normolized_vacancies_frame, normalized_employer['employer_name']], axis=1)\n",
    "    \n",
    "    return normolized_vacancies_frame"
   ]
  },
  {
   "cell_type": "code",
   "execution_count": null,
   "id": "3ef199cb",
   "metadata": {
    "id": "3ef199cb"
   },
   "outputs": [],
   "source": [
    "def normolize_area(vacancies_frame):\n",
    "    ''' Нормализует данные о регионе '''\n",
    "    normolized_vacancies_frame = vacancies_frame.copy()\n",
    "    \n",
    "    normalized_area = pd.json_normalize(normolized_vacancies_frame['area'])\n",
    "    normalized_area = normalized_area.rename(columns={'id':'area_id','name':'area_name'})\n",
    "    normolized_vacancies_frame = pd.concat([normolized_vacancies_frame, normalized_area], axis=1)\n",
    "    \n",
    "    return normolized_vacancies_frame"
   ]
  },
  {
   "cell_type": "code",
   "execution_count": null,
   "id": "f8baea7d",
   "metadata": {
    "id": "f8baea7d"
   },
   "outputs": [],
   "source": [
    "def normolize_schedule(vacancies_frame):\n",
    "    ''' Нормализует данные о расписании '''\n",
    "    normolized_vacancies_frame = vacancies_frame.copy()\n",
    "\n",
    "    normalized_schedule = pd.json_normalize(normolized_vacancies_frame['schedule'])\n",
    "    normalized_schedule = normalized_schedule.rename(columns={'id':'schedele_id','name':'schedule_name'})\n",
    "    normolized_vacancies_frame = pd.concat([normolized_vacancies_frame, normalized_schedule], axis=1)\n",
    "\n",
    "    return normolized_vacancies_frame"
   ]
  },
  {
   "cell_type": "code",
   "execution_count": null,
   "id": "02eec5ae",
   "metadata": {
    "id": "02eec5ae"
   },
   "outputs": [],
   "source": [
    "def calculate_salary(vacancies_frame):\n",
    "    ''' Рассчитывает среднюю зарплату для каждой вакансии. \n",
    "    Если зарплата в валюте - переводит в рубли. \n",
    "    Если зарплата без учета налога - отнимает сумму налога.'''    \n",
    "    vacancies_frame_with_avg_salary = vacancies_frame.copy()\n",
    "    \n",
    "    vacancies_frame_with_avg_salary['avg_salary'] = vacancies_frame[['salary_from', 'salary_to']].mean(axis = 'columns')\n",
    "   \n",
    "    vacancies_frame_with_avg_salary['avg_salary'] = np.where(vacancies_frame_with_avg_salary['salary_currency'] == \"USD\", \n",
    "                                                            vacancies_frame_with_avg_salary['avg_salary'] * EXCHANGE_RATE_USD, \n",
    "                                                            vacancies_frame_with_avg_salary['avg_salary'])\n",
    "    \n",
    "    vacancies_frame_with_avg_salary['avg_salary'] = np.where(vacancies_frame_with_avg_salary['salary_currency'] == \"EUR\", \n",
    "                                                           vacancies_frame_with_avg_salary['avg_salary'] * EXCHANGE_RATE_EUR, \n",
    "                                                           vacancies_frame_with_avg_salary['avg_salary'])\n",
    "    \n",
    "    vacancies_frame_with_avg_salary['avg_salary'] = np.where(vacancies_frame_with_avg_salary['salary_gross'] == True, \n",
    "                                                           vacancies_frame_with_avg_salary['avg_salary'] * (1 - TAX_RATE), \n",
    "                                                           vacancies_frame_with_avg_salary['avg_salary'])\n",
    "    \n",
    "    return vacancies_frame_with_avg_salary"
   ]
  },
  {
   "cell_type": "code",
   "execution_count": null,
   "id": "8308603d",
   "metadata": {
    "id": "8308603d"
   },
   "outputs": [],
   "source": [
    "def normolize_salary(vacancies_frame):\n",
    "    ''' Нормализует данные зарплате '''\n",
    "    normolized_vacancies_frame = vacancies_frame.copy()\n",
    "    \n",
    "    normolized_vacancies_frame['salary'] = normolized_vacancies_frame['salary'].apply(lambda x: {} if pd.isna(x) else x)\n",
    "    normalized_salary = pd.json_normalize(normolized_vacancies_frame['salary'])\n",
    "    normalized_salary = normalized_salary.rename(columns =\n",
    "                                                 {'from': 'salary_from',\n",
    "                                                  'to': 'salary_to',\n",
    "                                                  'currency':'salary_currency',\n",
    "                                                  'gross':'salary_gross'\n",
    "                                                 }\n",
    "                                                )\n",
    "    normolized_vacancies_frame = pd.concat([normolized_vacancies_frame, normalized_salary], axis=1)\n",
    "\n",
    "    normolized_vacancies_frame = calculate_salary(normolized_vacancies_frame)\n",
    "    \n",
    "    return normolized_vacancies_frame"
   ]
  },
  {
   "cell_type": "code",
   "execution_count": null,
   "id": "nE9M14Tt1Jan",
   "metadata": {
    "id": "nE9M14Tt1Jan"
   },
   "outputs": [],
   "source": [
    "def normolize_experience(vacancies_frame):\n",
    "    ''' Нормализует данные о требуемом опыте '''\n",
    "    normolized_vacancies_frame = vacancies_frame.copy()\n",
    "\n",
    "    normalized_experience = pd.json_normalize(normolized_vacancies_frame['experience'])\n",
    "    normalized_experience = normalized_experience.rename(columns={'id':'experience_id','name':'experience_name'})\n",
    "    normolized_vacancies_frame = pd.concat([normolized_vacancies_frame, normalized_experience], axis=1)\n",
    "    normolized_vacancies_frame\n",
    "\n",
    "    return normolized_vacancies_frame"
   ]
  },
  {
   "cell_type": "code",
   "execution_count": null,
   "id": "y4vrgITm5A0C",
   "metadata": {
    "id": "y4vrgITm5A0C"
   },
   "outputs": [],
   "source": [
    "def normolize_key_skills(vacancies_frame):\n",
    "    ''' Нормализует список ключевых навыков '''\n",
    "    def get_skills(list_of_dictionaries):\n",
    "        list_of_skills = [skill['name'] for skill in list_of_dictionaries]\n",
    "        return ' '.join(list_of_skills)\n",
    "\n",
    "\n",
    "    normolized_vacancies_frame = vacancies_frame.copy()\n",
    "    normolized_vacancies_frame['key_skills'] = normolized_vacancies_frame['key_skills'].apply(get_skills)\n",
    "\n",
    "    return normolized_vacancies_frame"
   ]
  },
  {
   "cell_type": "code",
   "execution_count": null,
   "id": "8f85552b",
   "metadata": {
    "id": "8f85552b"
   },
   "outputs": [],
   "source": [
    "def normolize_vacancies_frame(vacancies_frame):\n",
    "    ''' Нормализует все поля датафрейма, нужные для анализа '''\n",
    "    normolized_vacancies_frame = vacancies_frame.copy()\n",
    "    \n",
    "    normolized_vacancies_frame = normolize_employer(normolized_vacancies_frame)\n",
    "    normolized_vacancies_frame = normolize_area(normolized_vacancies_frame)\n",
    "    normolized_vacancies_frame = normolize_schedule(normolized_vacancies_frame)\n",
    "    normolized_vacancies_frame = normolize_salary(normolized_vacancies_frame)\n",
    "    normolized_vacancies_frame = normolize_experience(normolized_vacancies_frame)\n",
    "    normolized_vacancies_frame = normolize_key_skills(normolized_vacancies_frame)\n",
    "    \n",
    "    return normolized_vacancies_frame "
   ]
  },
  {
   "cell_type": "code",
   "execution_count": null,
   "id": "274c1280",
   "metadata": {
    "id": "274c1280"
   },
   "outputs": [],
   "source": [
    "def filter_vacancies_frame(vacancies_frame):\n",
    "    ''' Фильтрует датафрейм, оставляя только нужные для анализа столбцы '''\n",
    "    filtered = vacancies_frame[['id', 'name', 'employer_name', 'region', 'area_name', 'schedule_name', 'avg_salary', 'description', 'key_skills', 'experience_name']]\n",
    "    \n",
    "    return filtered"
   ]
  },
  {
   "cell_type": "markdown",
   "id": "cn8E3TOh_K2z",
   "metadata": {
    "id": "cn8E3TOh_K2z"
   },
   "source": [
    "# Определение грейдов"
   ]
  },
  {
   "cell_type": "code",
   "execution_count": null,
   "id": "AtJYjqy0vkOU",
   "metadata": {
    "id": "AtJYjqy0vkOU"
   },
   "outputs": [],
   "source": [
    "import re"
   ]
  },
  {
   "cell_type": "code",
   "execution_count": null,
   "id": "2e04ee88",
   "metadata": {
    "id": "2e04ee88"
   },
   "outputs": [],
   "source": [
    "JUNIOR_GRADE = \"junior\"\n",
    "MIDDLE_GRADE = \"middle\"\n",
    "SENIOR_GRADE = \"senior\"\n",
    "ARCHITECT_GRADE = \"architect\"\n",
    "TEAM_LEAD_GRADE = \"team lead\"\n",
    "NOT_DEFINED = \"not defined\"\n",
    "NOT_FOUND = \"not found\"\n",
    "VACANCY_CONTAINS_GRADE_KEYWORDS = \"+\"\n",
    "VACANCY_NOT_CONTAINS_GRADE_KEYWORDS = \"-\"\n",
    "\n",
    "KEYWOORD_JUNIOR_1 = \"junior\"\n",
    "KEYWOORD_JUNIOR_2 = \"младш\"\n",
    "KEYWOORD_MIDDLE_1 = \"middle\"\n",
    "KEYWOORD_MIDDLE_2 = \"старш\"\n",
    "KEYWOORD_SENIOR_1 = \"senior\"\n",
    "KEYWOORD_SENIOR_2 = \"ведущ\"\n",
    "KEYWOORD_ARCHITECT_1 = \"architect\"\n",
    "KEYWOORD_ARCHITECT_2 = \"архитектор\"\n",
    "KEYWOORD_LEAD_1 = \"lead\"\n",
    "KEYWOORD_LEAD_2 = \"руководит\""
   ]
  },
  {
   "cell_type": "code",
   "execution_count": null,
   "id": "hESV92foRwf5",
   "metadata": {
    "id": "hESV92foRwf5"
   },
   "outputs": [],
   "source": [
    "def get_grades(name):\n",
    "    ''' Определяет набор грейдов по наименованию name. Если найдено несколько грейдов, то результат будет строкой,\n",
    "    содержащей все эти грейды через \"/\". Если грейд не определен, вернется \"not defined\"'''\n",
    "    result_grade = None\n",
    "\n",
    "    if (re.search(KEYWOORD_JUNIOR_1, name, re.IGNORECASE) or \n",
    "        re.search(KEYWOORD_JUNIOR_2, name, re.IGNORECASE)):\n",
    "        result_grade = JUNIOR_GRADE\n",
    "\n",
    "    if (re.search(KEYWOORD_MIDDLE_1, name, re.IGNORECASE) or \n",
    "          re.search(KEYWOORD_MIDDLE_2, name, re.IGNORECASE)):\n",
    "        if result_grade is None:\n",
    "            result_grade = MIDDLE_GRADE\n",
    "        else:\n",
    "            result_grade = result_grade + '/' + MIDDLE_GRADE\n",
    "    \n",
    "    if (re.search(KEYWOORD_SENIOR_1, name, re.IGNORECASE) or \n",
    "        re.search(KEYWOORD_SENIOR_2, name, re.IGNORECASE)):\n",
    "        if result_grade is None:\n",
    "            result_grade = SENIOR_GRADE\n",
    "        else:\n",
    "            result_grade = result_grade + '/' + SENIOR_GRADE\n",
    "    \n",
    "    if (re.search(KEYWOORD_ARCHITECT_1, name, re.IGNORECASE) or \n",
    "          re.search(KEYWOORD_ARCHITECT_2, name, re.IGNORECASE)):\n",
    "        if result_grade is None:\n",
    "            result_grade = ARCHITECT_GRADE\n",
    "        else:\n",
    "            result_grade = result_grade + '/' + ARCHITECT_GRADE\n",
    "            \n",
    "    if (re.search(KEYWOORD_LEAD_1, name, re.IGNORECASE) or \n",
    "          re.search(KEYWOORD_LEAD_2, name, re.IGNORECASE)):\n",
    "        if result_grade is None:\n",
    "            result_grade = TEAM_LEAD_GRADE\n",
    "        else:\n",
    "            result_grade = result_grade + '/' + TEAM_LEAD_GRADE \n",
    "\n",
    "    if result_grade is None:\n",
    "        return NOT_DEFINED\n",
    "    else:\n",
    "        return result_grade"
   ]
  },
  {
   "cell_type": "code",
   "execution_count": null,
   "id": "6d3364c6",
   "metadata": {
    "id": "6d3364c6"
   },
   "outputs": [],
   "source": [
    "def fill_grades(vacancies_frame):\n",
    "    \n",
    "    filled_grade_vacancies_frame = vacancies_frame.copy() \n",
    "    \n",
    "    filled_grade_vacancies_frame['grade'] = filled_grade_vacancies_frame['name'].apply(get_grades)\n",
    "    \n",
    "    return filled_grade_vacancies_frame"
   ]
  },
  {
   "cell_type": "markdown",
   "id": "Qx1deuaVBmfm",
   "metadata": {
    "id": "Qx1deuaVBmfm"
   },
   "source": [
    "# Выгрузка и сохранение данных - java"
   ]
  },
  {
   "cell_type": "code",
   "execution_count": null,
   "id": "UEI8T5j2vBAy",
   "metadata": {
    "id": "UEI8T5j2vBAy"
   },
   "outputs": [],
   "source": [
    "import pickle"
   ]
  },
  {
   "cell_type": "code",
   "execution_count": null,
   "id": "jrtk1H2a1bxa",
   "metadata": {
    "id": "jrtk1H2a1bxa"
   },
   "outputs": [],
   "source": [
    "SEARCH_KEYWORD_JAVA_DEVELOPER_1 = 'java'"
   ]
  },
  {
   "cell_type": "code",
   "execution_count": null,
   "id": "e8dbebb4",
   "metadata": {
    "id": "e8dbebb4"
   },
   "outputs": [],
   "source": [
    "def get_vacancies_java():\n",
    "    ''' Выгружает вакансии с api по списку ключевых слов, нормализует и фильтрует полученные данные '''\n",
    "    vacancies_data_frame = get_vacancies_data_frame(SEARCH_KEYWORD_JAVA_DEVELOPER_1) \n",
    "    \n",
    "    vacancies_data_frame = normolize_vacancies_frame(vacancies_data_frame)\n",
    "    vacancies_data_frame = filter_vacancies_frame(vacancies_data_frame)\n",
    "    \n",
    "    return vacancies_data_frame"
   ]
  },
  {
   "cell_type": "code",
   "execution_count": null,
   "id": "X4vfzxIO9qE_",
   "metadata": {
    "colab": {
     "base_uri": "https://localhost:8080/",
     "height": 333
    },
    "id": "X4vfzxIO9qE_",
    "outputId": "dff28e17-2e07-4414-8c71-3f0a5c0102fd"
   },
   "outputs": [
    {
     "ename": "NameError",
     "evalue": "ignored",
     "output_type": "error",
     "traceback": [
      "\u001b[0;31m---------------------------------------------------------------------------\u001b[0m",
      "\u001b[0;31mNameError\u001b[0m                                 Traceback (most recent call last)",
      "\u001b[0;32m<ipython-input-11-7055c851fb3a>\u001b[0m in \u001b[0;36m<module>\u001b[0;34m()\u001b[0m\n\u001b[0;32m----> 1\u001b[0;31m \u001b[0mdf\u001b[0m \u001b[0;34m=\u001b[0m \u001b[0mget_vacancies_java\u001b[0m\u001b[0;34m(\u001b[0m\u001b[0;34m)\u001b[0m\u001b[0;34m\u001b[0m\u001b[0;34m\u001b[0m\u001b[0m\n\u001b[0m\u001b[1;32m      2\u001b[0m \u001b[0;34m\u001b[0m\u001b[0m\n\u001b[1;32m      3\u001b[0m \u001b[0;32mwith\u001b[0m \u001b[0mopen\u001b[0m\u001b[0;34m(\u001b[0m\u001b[0;34m'hh_java.pickle'\u001b[0m\u001b[0;34m,\u001b[0m \u001b[0;34m'wb'\u001b[0m\u001b[0;34m)\u001b[0m \u001b[0;32mas\u001b[0m \u001b[0mf\u001b[0m\u001b[0;34m:\u001b[0m\u001b[0;34m\u001b[0m\u001b[0;34m\u001b[0m\u001b[0m\n\u001b[1;32m      4\u001b[0m     \u001b[0mpickle\u001b[0m\u001b[0;34m.\u001b[0m\u001b[0mdump\u001b[0m\u001b[0;34m(\u001b[0m\u001b[0mdf\u001b[0m\u001b[0;34m,\u001b[0m \u001b[0mf\u001b[0m\u001b[0;34m)\u001b[0m\u001b[0;34m\u001b[0m\u001b[0;34m\u001b[0m\u001b[0m\n",
      "\u001b[0;32m<ipython-input-10-79ec1fee3b65>\u001b[0m in \u001b[0;36mget_vacancies_java\u001b[0;34m()\u001b[0m\n\u001b[1;32m      1\u001b[0m \u001b[0;32mdef\u001b[0m \u001b[0mget_vacancies_java\u001b[0m\u001b[0;34m(\u001b[0m\u001b[0;34m)\u001b[0m\u001b[0;34m:\u001b[0m\u001b[0;34m\u001b[0m\u001b[0;34m\u001b[0m\u001b[0m\n\u001b[1;32m      2\u001b[0m \u001b[0;34m\u001b[0m\u001b[0m\n\u001b[0;32m----> 3\u001b[0;31m     \u001b[0mvacancies_data_frame\u001b[0m \u001b[0;34m=\u001b[0m \u001b[0mget_vacancies_data_frame\u001b[0m\u001b[0;34m(\u001b[0m\u001b[0mSEARCH_KEYWORD_JAVA_DEVELOPER_1\u001b[0m\u001b[0;34m)\u001b[0m\u001b[0;34m\u001b[0m\u001b[0;34m\u001b[0m\u001b[0m\n\u001b[0m\u001b[1;32m      4\u001b[0m \u001b[0;34m\u001b[0m\u001b[0m\n\u001b[1;32m      5\u001b[0m     \u001b[0mvacancies_data_frame\u001b[0m \u001b[0;34m=\u001b[0m \u001b[0mnormolize_vacancies_frame\u001b[0m\u001b[0;34m(\u001b[0m\u001b[0mvacancies_data_frame\u001b[0m\u001b[0;34m)\u001b[0m\u001b[0;34m\u001b[0m\u001b[0;34m\u001b[0m\u001b[0m\n",
      "\u001b[0;31mNameError\u001b[0m: name 'get_vacancies_data_frame' is not defined"
     ]
    }
   ],
   "source": [
    "# Выгружаем данные и сохраняем их в pickle, чтобы потом использовать\n",
    "df = get_vacancies_java()\n",
    "\n",
    "with open('hh_java.pickle', 'wb') as f:\n",
    "    pickle.dump(df, f)"
   ]
  },
  {
   "cell_type": "markdown",
   "id": "pKbneztkCSU9",
   "metadata": {
    "id": "pKbneztkCSU9"
   },
   "source": [
    "# Экспорт"
   ]
  },
  {
   "cell_type": "code",
   "execution_count": null,
   "id": "NZuswghJ4peo",
   "metadata": {
    "id": "NZuswghJ4peo"
   },
   "outputs": [],
   "source": [
    "from openpyxl.utils.dataframe import dataframe_to_rows\n",
    "from openpyxl import Workbook"
   ]
  },
  {
   "cell_type": "code",
   "execution_count": null,
   "id": "UNaohQacWGt1",
   "metadata": {
    "id": "UNaohQacWGt1"
   },
   "outputs": [],
   "source": [
    "COMMENT_EXPORT_COMPLETED = 'Результаты можно посмотреть в файле '"
   ]
  },
  {
   "cell_type": "code",
   "execution_count": null,
   "id": "d83a888e",
   "metadata": {
    "id": "d83a888e"
   },
   "outputs": [],
   "source": [
    "def export_vacancies(vacancies_frame, file_name):\n",
    "    ''' Экспортирует vacancies_frame в файле excel '''\n",
    "    wb = Workbook()\n",
    "    ws = wb.active\n",
    "    \n",
    "    for r in dataframe_to_rows(vacancies_frame, index=True, header=True):\n",
    "        ws.append(r)\n",
    "        \n",
    "    for cell in ws['A'] + ws[1]:\n",
    "        cell.style = 'Pandas'\n",
    "        \n",
    "    wb.save(file_name)\n",
    "    print(COMMENT_EXPORT_COMPLETED + file_name + \"\\'\")"
   ]
  },
  {
   "cell_type": "markdown",
   "id": "fTginvWZ9EIH",
   "metadata": {
    "id": "fTginvWZ9EIH"
   },
   "source": [
    "# Обработка текста"
   ]
  },
  {
   "cell_type": "code",
   "execution_count": null,
   "id": "Y2sY5dLA-uvN",
   "metadata": {
    "colab": {
     "base_uri": "https://localhost:8080/"
    },
    "id": "Y2sY5dLA-uvN",
    "outputId": "9cdbb9e5-a26f-4132-a856-3b90ad89b450"
   },
   "outputs": [
    {
     "name": "stdout",
     "output_type": "stream",
     "text": [
      "[nltk_data] Downloading collection 'all'\n",
      "[nltk_data]    | \n",
      "[nltk_data]    | Downloading package abc to /root/nltk_data...\n",
      "[nltk_data]    |   Package abc is already up-to-date!\n",
      "[nltk_data]    | Downloading package alpino to /root/nltk_data...\n",
      "[nltk_data]    |   Package alpino is already up-to-date!\n",
      "[nltk_data]    | Downloading package biocreative_ppi to\n",
      "[nltk_data]    |     /root/nltk_data...\n",
      "[nltk_data]    |   Package biocreative_ppi is already up-to-date!\n",
      "[nltk_data]    | Downloading package brown to /root/nltk_data...\n",
      "[nltk_data]    |   Package brown is already up-to-date!\n",
      "[nltk_data]    | Downloading package brown_tei to /root/nltk_data...\n",
      "[nltk_data]    |   Package brown_tei is already up-to-date!\n",
      "[nltk_data]    | Downloading package cess_cat to /root/nltk_data...\n",
      "[nltk_data]    |   Package cess_cat is already up-to-date!\n",
      "[nltk_data]    | Downloading package cess_esp to /root/nltk_data...\n",
      "[nltk_data]    |   Package cess_esp is already up-to-date!\n",
      "[nltk_data]    | Downloading package chat80 to /root/nltk_data...\n",
      "[nltk_data]    |   Package chat80 is already up-to-date!\n",
      "[nltk_data]    | Downloading package city_database to\n",
      "[nltk_data]    |     /root/nltk_data...\n",
      "[nltk_data]    |   Package city_database is already up-to-date!\n",
      "[nltk_data]    | Downloading package cmudict to /root/nltk_data...\n",
      "[nltk_data]    |   Package cmudict is already up-to-date!\n",
      "[nltk_data]    | Downloading package comparative_sentences to\n",
      "[nltk_data]    |     /root/nltk_data...\n",
      "[nltk_data]    |   Package comparative_sentences is already up-to-\n",
      "[nltk_data]    |       date!\n",
      "[nltk_data]    | Downloading package comtrans to /root/nltk_data...\n",
      "[nltk_data]    |   Package comtrans is already up-to-date!\n",
      "[nltk_data]    | Downloading package conll2000 to /root/nltk_data...\n",
      "[nltk_data]    |   Package conll2000 is already up-to-date!\n",
      "[nltk_data]    | Downloading package conll2002 to /root/nltk_data...\n",
      "[nltk_data]    |   Package conll2002 is already up-to-date!\n",
      "[nltk_data]    | Downloading package conll2007 to /root/nltk_data...\n",
      "[nltk_data]    |   Package conll2007 is already up-to-date!\n",
      "[nltk_data]    | Downloading package crubadan to /root/nltk_data...\n",
      "[nltk_data]    |   Package crubadan is already up-to-date!\n",
      "[nltk_data]    | Downloading package dependency_treebank to\n",
      "[nltk_data]    |     /root/nltk_data...\n",
      "[nltk_data]    |   Package dependency_treebank is already up-to-date!\n",
      "[nltk_data]    | Downloading package dolch to /root/nltk_data...\n",
      "[nltk_data]    |   Package dolch is already up-to-date!\n",
      "[nltk_data]    | Downloading package europarl_raw to\n",
      "[nltk_data]    |     /root/nltk_data...\n",
      "[nltk_data]    |   Package europarl_raw is already up-to-date!\n",
      "[nltk_data]    | Downloading package floresta to /root/nltk_data...\n",
      "[nltk_data]    |   Package floresta is already up-to-date!\n",
      "[nltk_data]    | Downloading package framenet_v15 to\n",
      "[nltk_data]    |     /root/nltk_data...\n",
      "[nltk_data]    |   Package framenet_v15 is already up-to-date!\n",
      "[nltk_data]    | Downloading package framenet_v17 to\n",
      "[nltk_data]    |     /root/nltk_data...\n",
      "[nltk_data]    |   Package framenet_v17 is already up-to-date!\n",
      "[nltk_data]    | Downloading package gazetteers to /root/nltk_data...\n",
      "[nltk_data]    |   Package gazetteers is already up-to-date!\n",
      "[nltk_data]    | Downloading package genesis to /root/nltk_data...\n",
      "[nltk_data]    |   Package genesis is already up-to-date!\n",
      "[nltk_data]    | Downloading package gutenberg to /root/nltk_data...\n",
      "[nltk_data]    |   Package gutenberg is already up-to-date!\n",
      "[nltk_data]    | Downloading package ieer to /root/nltk_data...\n",
      "[nltk_data]    |   Package ieer is already up-to-date!\n",
      "[nltk_data]    | Downloading package inaugural to /root/nltk_data...\n",
      "[nltk_data]    |   Package inaugural is already up-to-date!\n",
      "[nltk_data]    | Downloading package indian to /root/nltk_data...\n",
      "[nltk_data]    |   Package indian is already up-to-date!\n",
      "[nltk_data]    | Downloading package jeita to /root/nltk_data...\n",
      "[nltk_data]    |   Package jeita is already up-to-date!\n",
      "[nltk_data]    | Downloading package kimmo to /root/nltk_data...\n",
      "[nltk_data]    |   Package kimmo is already up-to-date!\n",
      "[nltk_data]    | Downloading package knbc to /root/nltk_data...\n",
      "[nltk_data]    |   Package knbc is already up-to-date!\n",
      "[nltk_data]    | Downloading package lin_thesaurus to\n",
      "[nltk_data]    |     /root/nltk_data...\n",
      "[nltk_data]    |   Package lin_thesaurus is already up-to-date!\n",
      "[nltk_data]    | Downloading package mac_morpho to /root/nltk_data...\n",
      "[nltk_data]    |   Package mac_morpho is already up-to-date!\n",
      "[nltk_data]    | Downloading package machado to /root/nltk_data...\n",
      "[nltk_data]    |   Package machado is already up-to-date!\n",
      "[nltk_data]    | Downloading package masc_tagged to /root/nltk_data...\n",
      "[nltk_data]    |   Package masc_tagged is already up-to-date!\n",
      "[nltk_data]    | Downloading package moses_sample to\n",
      "[nltk_data]    |     /root/nltk_data...\n",
      "[nltk_data]    |   Package moses_sample is already up-to-date!\n",
      "[nltk_data]    | Downloading package movie_reviews to\n",
      "[nltk_data]    |     /root/nltk_data...\n",
      "[nltk_data]    |   Package movie_reviews is already up-to-date!\n",
      "[nltk_data]    | Downloading package names to /root/nltk_data...\n",
      "[nltk_data]    |   Package names is already up-to-date!\n",
      "[nltk_data]    | Downloading package nombank.1.0 to /root/nltk_data...\n",
      "[nltk_data]    |   Package nombank.1.0 is already up-to-date!\n",
      "[nltk_data]    | Downloading package nps_chat to /root/nltk_data...\n",
      "[nltk_data]    |   Package nps_chat is already up-to-date!\n",
      "[nltk_data]    | Downloading package omw to /root/nltk_data...\n",
      "[nltk_data]    |   Package omw is already up-to-date!\n",
      "[nltk_data]    | Downloading package opinion_lexicon to\n",
      "[nltk_data]    |     /root/nltk_data...\n",
      "[nltk_data]    |   Package opinion_lexicon is already up-to-date!\n",
      "[nltk_data]    | Downloading package paradigms to /root/nltk_data...\n",
      "[nltk_data]    |   Package paradigms is already up-to-date!\n",
      "[nltk_data]    | Downloading package pil to /root/nltk_data...\n",
      "[nltk_data]    |   Package pil is already up-to-date!\n",
      "[nltk_data]    | Downloading package pl196x to /root/nltk_data...\n",
      "[nltk_data]    |   Package pl196x is already up-to-date!\n",
      "[nltk_data]    | Downloading package ppattach to /root/nltk_data...\n",
      "[nltk_data]    |   Package ppattach is already up-to-date!\n",
      "[nltk_data]    | Downloading package problem_reports to\n",
      "[nltk_data]    |     /root/nltk_data...\n",
      "[nltk_data]    |   Package problem_reports is already up-to-date!\n",
      "[nltk_data]    | Downloading package propbank to /root/nltk_data...\n",
      "[nltk_data]    |   Package propbank is already up-to-date!\n",
      "[nltk_data]    | Downloading package ptb to /root/nltk_data...\n",
      "[nltk_data]    |   Package ptb is already up-to-date!\n",
      "[nltk_data]    | Downloading package product_reviews_1 to\n",
      "[nltk_data]    |     /root/nltk_data...\n",
      "[nltk_data]    |   Package product_reviews_1 is already up-to-date!\n",
      "[nltk_data]    | Downloading package product_reviews_2 to\n",
      "[nltk_data]    |     /root/nltk_data...\n",
      "[nltk_data]    |   Package product_reviews_2 is already up-to-date!\n",
      "[nltk_data]    | Downloading package pros_cons to /root/nltk_data...\n",
      "[nltk_data]    |   Package pros_cons is already up-to-date!\n",
      "[nltk_data]    | Downloading package qc to /root/nltk_data...\n",
      "[nltk_data]    |   Package qc is already up-to-date!\n",
      "[nltk_data]    | Downloading package reuters to /root/nltk_data...\n",
      "[nltk_data]    |   Package reuters is already up-to-date!\n",
      "[nltk_data]    | Downloading package rte to /root/nltk_data...\n",
      "[nltk_data]    |   Package rte is already up-to-date!\n",
      "[nltk_data]    | Downloading package semcor to /root/nltk_data...\n",
      "[nltk_data]    |   Package semcor is already up-to-date!\n",
      "[nltk_data]    | Downloading package senseval to /root/nltk_data...\n",
      "[nltk_data]    |   Package senseval is already up-to-date!\n",
      "[nltk_data]    | Downloading package sentiwordnet to\n",
      "[nltk_data]    |     /root/nltk_data...\n",
      "[nltk_data]    |   Package sentiwordnet is already up-to-date!\n",
      "[nltk_data]    | Downloading package sentence_polarity to\n",
      "[nltk_data]    |     /root/nltk_data...\n",
      "[nltk_data]    |   Package sentence_polarity is already up-to-date!\n",
      "[nltk_data]    | Downloading package shakespeare to /root/nltk_data...\n",
      "[nltk_data]    |   Package shakespeare is already up-to-date!\n",
      "[nltk_data]    | Downloading package sinica_treebank to\n",
      "[nltk_data]    |     /root/nltk_data...\n",
      "[nltk_data]    |   Package sinica_treebank is already up-to-date!\n",
      "[nltk_data]    | Downloading package smultron to /root/nltk_data...\n",
      "[nltk_data]    |   Package smultron is already up-to-date!\n",
      "[nltk_data]    | Downloading package state_union to /root/nltk_data...\n",
      "[nltk_data]    |   Package state_union is already up-to-date!\n",
      "[nltk_data]    | Downloading package stopwords to /root/nltk_data...\n",
      "[nltk_data]    |   Package stopwords is already up-to-date!\n",
      "[nltk_data]    | Downloading package subjectivity to\n",
      "[nltk_data]    |     /root/nltk_data...\n",
      "[nltk_data]    |   Package subjectivity is already up-to-date!\n",
      "[nltk_data]    | Downloading package swadesh to /root/nltk_data...\n",
      "[nltk_data]    |   Package swadesh is already up-to-date!\n",
      "[nltk_data]    | Downloading package switchboard to /root/nltk_data...\n",
      "[nltk_data]    |   Package switchboard is already up-to-date!\n",
      "[nltk_data]    | Downloading package timit to /root/nltk_data...\n",
      "[nltk_data]    |   Package timit is already up-to-date!\n",
      "[nltk_data]    | Downloading package toolbox to /root/nltk_data...\n",
      "[nltk_data]    |   Package toolbox is already up-to-date!\n",
      "[nltk_data]    | Downloading package treebank to /root/nltk_data...\n",
      "[nltk_data]    |   Package treebank is already up-to-date!\n",
      "[nltk_data]    | Downloading package twitter_samples to\n",
      "[nltk_data]    |     /root/nltk_data...\n",
      "[nltk_data]    |   Package twitter_samples is already up-to-date!\n",
      "[nltk_data]    | Downloading package udhr to /root/nltk_data...\n",
      "[nltk_data]    |   Package udhr is already up-to-date!\n",
      "[nltk_data]    | Downloading package udhr2 to /root/nltk_data...\n",
      "[nltk_data]    |   Package udhr2 is already up-to-date!\n",
      "[nltk_data]    | Downloading package unicode_samples to\n",
      "[nltk_data]    |     /root/nltk_data...\n",
      "[nltk_data]    |   Package unicode_samples is already up-to-date!\n",
      "[nltk_data]    | Downloading package universal_treebanks_v20 to\n",
      "[nltk_data]    |     /root/nltk_data...\n",
      "[nltk_data]    |   Package universal_treebanks_v20 is already up-to-\n",
      "[nltk_data]    |       date!\n",
      "[nltk_data]    | Downloading package verbnet to /root/nltk_data...\n",
      "[nltk_data]    |   Package verbnet is already up-to-date!\n",
      "[nltk_data]    | Downloading package verbnet3 to /root/nltk_data...\n",
      "[nltk_data]    |   Package verbnet3 is already up-to-date!\n",
      "[nltk_data]    | Downloading package webtext to /root/nltk_data...\n",
      "[nltk_data]    |   Package webtext is already up-to-date!\n",
      "[nltk_data]    | Downloading package wordnet to /root/nltk_data...\n",
      "[nltk_data]    |   Package wordnet is already up-to-date!\n",
      "[nltk_data]    | Downloading package wordnet_ic to /root/nltk_data...\n",
      "[nltk_data]    |   Package wordnet_ic is already up-to-date!\n",
      "[nltk_data]    | Downloading package words to /root/nltk_data...\n",
      "[nltk_data]    |   Package words is already up-to-date!\n",
      "[nltk_data]    | Downloading package ycoe to /root/nltk_data...\n",
      "[nltk_data]    |   Package ycoe is already up-to-date!\n",
      "[nltk_data]    | Downloading package rslp to /root/nltk_data...\n",
      "[nltk_data]    |   Package rslp is already up-to-date!\n",
      "[nltk_data]    | Downloading package maxent_treebank_pos_tagger to\n",
      "[nltk_data]    |     /root/nltk_data...\n",
      "[nltk_data]    |   Package maxent_treebank_pos_tagger is already up-\n",
      "[nltk_data]    |       to-date!\n",
      "[nltk_data]    | Downloading package universal_tagset to\n",
      "[nltk_data]    |     /root/nltk_data...\n",
      "[nltk_data]    |   Package universal_tagset is already up-to-date!\n",
      "[nltk_data]    | Downloading package maxent_ne_chunker to\n",
      "[nltk_data]    |     /root/nltk_data...\n",
      "[nltk_data]    |   Package maxent_ne_chunker is already up-to-date!\n",
      "[nltk_data]    | Downloading package punkt to /root/nltk_data...\n",
      "[nltk_data]    |   Package punkt is already up-to-date!\n",
      "[nltk_data]    | Downloading package book_grammars to\n",
      "[nltk_data]    |     /root/nltk_data...\n",
      "[nltk_data]    |   Package book_grammars is already up-to-date!\n",
      "[nltk_data]    | Downloading package sample_grammars to\n",
      "[nltk_data]    |     /root/nltk_data...\n",
      "[nltk_data]    |   Package sample_grammars is already up-to-date!\n",
      "[nltk_data]    | Downloading package spanish_grammars to\n",
      "[nltk_data]    |     /root/nltk_data...\n",
      "[nltk_data]    |   Package spanish_grammars is already up-to-date!\n",
      "[nltk_data]    | Downloading package basque_grammars to\n",
      "[nltk_data]    |     /root/nltk_data...\n",
      "[nltk_data]    |   Package basque_grammars is already up-to-date!\n",
      "[nltk_data]    | Downloading package large_grammars to\n",
      "[nltk_data]    |     /root/nltk_data...\n",
      "[nltk_data]    |   Package large_grammars is already up-to-date!\n",
      "[nltk_data]    | Downloading package tagsets to /root/nltk_data...\n",
      "[nltk_data]    |   Package tagsets is already up-to-date!\n",
      "[nltk_data]    | Downloading package snowball_data to\n",
      "[nltk_data]    |     /root/nltk_data...\n",
      "[nltk_data]    |   Package snowball_data is already up-to-date!\n",
      "[nltk_data]    | Downloading package bllip_wsj_no_aux to\n",
      "[nltk_data]    |     /root/nltk_data...\n",
      "[nltk_data]    |   Package bllip_wsj_no_aux is already up-to-date!\n",
      "[nltk_data]    | Downloading package word2vec_sample to\n",
      "[nltk_data]    |     /root/nltk_data...\n",
      "[nltk_data]    |   Package word2vec_sample is already up-to-date!\n",
      "[nltk_data]    | Downloading package panlex_swadesh to\n",
      "[nltk_data]    |     /root/nltk_data...\n",
      "[nltk_data]    |   Package panlex_swadesh is already up-to-date!\n",
      "[nltk_data]    | Downloading package mte_teip5 to /root/nltk_data...\n",
      "[nltk_data]    |   Package mte_teip5 is already up-to-date!\n",
      "[nltk_data]    | Downloading package averaged_perceptron_tagger to\n",
      "[nltk_data]    |     /root/nltk_data...\n",
      "[nltk_data]    |   Package averaged_perceptron_tagger is already up-\n",
      "[nltk_data]    |       to-date!\n",
      "[nltk_data]    | Downloading package averaged_perceptron_tagger_ru to\n",
      "[nltk_data]    |     /root/nltk_data...\n",
      "[nltk_data]    |   Package averaged_perceptron_tagger_ru is already\n",
      "[nltk_data]    |       up-to-date!\n",
      "[nltk_data]    | Downloading package perluniprops to\n",
      "[nltk_data]    |     /root/nltk_data...\n",
      "[nltk_data]    |   Package perluniprops is already up-to-date!\n",
      "[nltk_data]    | Downloading package nonbreaking_prefixes to\n",
      "[nltk_data]    |     /root/nltk_data...\n",
      "[nltk_data]    |   Package nonbreaking_prefixes is already up-to-date!\n",
      "[nltk_data]    | Downloading package vader_lexicon to\n",
      "[nltk_data]    |     /root/nltk_data...\n",
      "[nltk_data]    |   Package vader_lexicon is already up-to-date!\n",
      "[nltk_data]    | Downloading package porter_test to /root/nltk_data...\n",
      "[nltk_data]    |   Package porter_test is already up-to-date!\n",
      "[nltk_data]    | Downloading package wmt15_eval to /root/nltk_data...\n",
      "[nltk_data]    |   Package wmt15_eval is already up-to-date!\n",
      "[nltk_data]    | Downloading package mwa_ppdb to /root/nltk_data...\n",
      "[nltk_data]    |   Package mwa_ppdb is already up-to-date!\n",
      "[nltk_data]    | \n",
      "[nltk_data]  Done downloading collection all\n",
      "[nltk_data] Downloading package punkt to /root/nltk_data...\n",
      "[nltk_data]   Package punkt is already up-to-date!\n",
      "[nltk_data] Downloading package stopwords to /root/nltk_data...\n",
      "[nltk_data]   Package stopwords is already up-to-date!\n"
     ]
    }
   ],
   "source": [
    "import nltk\n",
    "\n",
    "nltk.download('all')\n",
    "nltk.download('punkt')\n",
    "nltk.download('stopwords')\n",
    "\n",
    "from nltk.tokenize import word_tokenize, sent_tokenize"
   ]
  },
  {
   "cell_type": "code",
   "execution_count": null,
   "id": "7LORMC-E-8Z8",
   "metadata": {
    "id": "7LORMC-E-8Z8"
   },
   "outputs": [],
   "source": [
    "import string\n",
    "from nltk.corpus import stopwords\n",
    "from nltk.stem import PorterStemmer\n",
    "from nltk.stem.snowball import SnowballStemmer\n",
    "from bs4 import BeautifulSoup"
   ]
  },
  {
   "cell_type": "code",
   "execution_count": null,
   "id": "QiJZ2A_a9Jhu",
   "metadata": {
    "id": "QiJZ2A_a9Jhu"
   },
   "outputs": [],
   "source": [
    "def process_text(text):\n",
    "    \"\"\"Принимает на вход предложение и возвращает леммы токенов предложения, фильтруя по стоп словам и удаляя знаки пунктуации\"\"\"        \n",
    "    \n",
    "    soup = BeautifulSoup(text, 'html.parser')\n",
    "    text = soup.get_text()\n",
    "\n",
    "    words = word_tokenize(text) # С помощью токенизации разбиваем текст на токены \n",
    "    \n",
    "    eng_stop_words = set(stopwords.words(\"english\"))\n",
    "    ru_stop_words = set(stopwords.words(\"russian\"))\n",
    "    \n",
    "    words = [word for word in words if word not in eng_stop_words] # Удаляем стопслова  \n",
    "    words = [word for word in words if word not in ru_stop_words]\n",
    "\n",
    "    punctuations = list(string.punctuation)\n",
    "    punctuations.extend(['•', '—', '–', '«', '»', \"'\", '``', '“', '”', '.', '’', '·', '●'])\n",
    "    words = [word for word in words if word not in punctuations] # Удаляем знаки пунктуации\n",
    "\n",
    "    stemmer_en = PorterStemmer() \n",
    "    stemmer_ru = SnowballStemmer(\"russian\")\n",
    "    words = [stemmer_en.stem(word) for word in words] # стеммируем каждое слово\n",
    "    words = [stemmer_ru.stem(word) for word in words]\n",
    "\n",
    "    words = ' '.join(words) # итог - строка\n",
    "\n",
    "    return words"
   ]
  },
  {
   "cell_type": "code",
   "execution_count": null,
   "id": "A3EvpGFkBU_A",
   "metadata": {
    "id": "A3EvpGFkBU_A"
   },
   "outputs": [],
   "source": [
    "def get_word_counts(texts):\n",
    "    wordfreq = {}\n",
    "\n",
    "    for sentence in texts:\n",
    "        \n",
    "        for word in word_tokenize(sentence):\n",
    "            \n",
    "            if word not in wordfreq:\n",
    "                wordfreq[word] = 0 \n",
    "            wordfreq[word] += 1\n",
    "        \n",
    "    return {k:v for k,v in sorted(wordfreq.items(), key=lambda kv: kv[1], reverse=True)}"
   ]
  },
  {
   "cell_type": "code",
   "execution_count": null,
   "id": "uom5stZ6B8md",
   "metadata": {
    "id": "uom5stZ6B8md"
   },
   "outputs": [],
   "source": [
    "def process_vacancies_text(df):\n",
    "    df['key_skills_processed'] = df['key_skills'].apply(process_text)\n",
    "    df['description_processed'] = df['description'].apply(process_text)\n",
    "\n",
    "    return df"
   ]
  },
  {
   "cell_type": "markdown",
   "id": "OuJyEkpm5U-z",
   "metadata": {
    "id": "OuJyEkpm5U-z"
   },
   "source": [
    "# Классификация"
   ]
  },
  {
   "cell_type": "code",
   "execution_count": null,
   "id": "tGbC3V-FuB5a",
   "metadata": {
    "id": "tGbC3V-FuB5a"
   },
   "outputs": [],
   "source": [
    "from sklearn.feature_extraction.text import TfidfVectorizer, CountVectorizer\n",
    "from sklearn.model_selection import cross_val_score\n",
    "from sklearn.model_selection import cross_val_score, train_test_split\n",
    "from scipy.sparse import hstack\n",
    "from sklearn.tree import DecisionTreeClassifier\n",
    "from sklearn.metrics import f1_score"
   ]
  },
  {
   "cell_type": "code",
   "execution_count": null,
   "id": "0kLd3lqM5nXe",
   "metadata": {
    "id": "0kLd3lqM5nXe"
   },
   "outputs": [],
   "source": [
    "from sklearn.ensemble import RandomForestClassifier"
   ]
  },
  {
   "cell_type": "code",
   "execution_count": null,
   "id": "QZXFzi11FJV8",
   "metadata": {
    "id": "QZXFzi11FJV8"
   },
   "outputs": [],
   "source": [
    "def classify_vacancies(vac_with_defined_grade):\n",
    "    \n",
    "    X = vac_with_defined_grade[['key_skills_processed', 'description_processed', 'experience_name', 'schedule_name']].apply(' '.join, axis = 1)\n",
    "    Y = vac_with_defined_grade['grade']\n",
    "\n",
    "    train_text, test_text = train_test_split(X, test_size=0.25, random_state=42)  \n",
    "    train_labels, test_labels = train_test_split(Y, test_size=0.25, random_state=42)\n",
    "\n",
    "    word_vectorizer = CountVectorizer(min_df=9)\n",
    "    word_vectorizer.fit(X)\n",
    "    \n",
    "    word_features = word_vectorizer.transform(X)\n",
    "    train_word_features = word_vectorizer.transform(train_text)\n",
    "    test_word_features = word_vectorizer.transform(test_text)\n",
    "\n",
    "    classifier = DecisionTreeClassifier()\n",
    "\n",
    "    classifier.fit(train_word_features, train_labels)\n",
    "    pred_train = classifier.predict(train_word_features)\n",
    "    pred_test = classifier.predict(test_word_features)\n",
    "\n",
    "    score_train = f1_score(train_labels, pred_train, average = 'micro')\n",
    "\n",
    "    score_train_cross = np.mean(cross_val_score(classifier, train_word_features, train_labels, cv=15, scoring='f1_micro'))\n",
    "\n",
    "    score_test = f1_score(test_labels, pred_test, average = 'micro')\n",
    "\n",
    "    return classifier, word_vectorizer, score_train, score_train_cross, score_test"
   ]
  },
  {
   "cell_type": "markdown",
   "id": "ko6jcdyKu0iI",
   "metadata": {
    "id": "ko6jcdyKu0iI"
   },
   "source": [
    "# Main"
   ]
  },
  {
   "cell_type": "code",
   "execution_count": null,
   "id": "pPiywAjjvZcS",
   "metadata": {
    "id": "pPiywAjjvZcS"
   },
   "outputs": [],
   "source": [
    "import seaborn as sns\n",
    "import matplotlib.pyplot as plt\n",
    "import scipy.stats as stats"
   ]
  },
  {
   "cell_type": "code",
   "execution_count": null,
   "id": "oXOWFlj04sLv",
   "metadata": {
    "id": "oXOWFlj04sLv"
   },
   "outputs": [],
   "source": [
    "import pickle"
   ]
  },
  {
   "cell_type": "markdown",
   "id": "xjUuzlcTMffg",
   "metadata": {
    "id": "xjUuzlcTMffg"
   },
   "source": [
    "## Загрузка данных"
   ]
  },
  {
   "cell_type": "code",
   "execution_count": null,
   "id": "ggPpy8momvyn",
   "metadata": {
    "colab": {
     "base_uri": "https://localhost:8080/",
     "height": 214
    },
    "id": "ggPpy8momvyn",
    "outputId": "420539c0-dacd-430c-9f1c-0f804a9965c1"
   },
   "outputs": [
    {
     "ename": "FileNotFoundError",
     "evalue": "ignored",
     "output_type": "error",
     "traceback": [
      "\u001b[0;31m---------------------------------------------------------------------------\u001b[0m",
      "\u001b[0;31mFileNotFoundError\u001b[0m                         Traceback (most recent call last)",
      "\u001b[0;32m<ipython-input-1-5d6fd5d577c3>\u001b[0m in \u001b[0;36m<module>\u001b[0;34m()\u001b[0m\n\u001b[0;32m----> 1\u001b[0;31m \u001b[0;32mwith\u001b[0m \u001b[0mopen\u001b[0m\u001b[0;34m(\u001b[0m\u001b[0;34m'hh_java_all.pickle'\u001b[0m\u001b[0;34m,\u001b[0m \u001b[0;34m'rb'\u001b[0m\u001b[0;34m)\u001b[0m \u001b[0;32mas\u001b[0m \u001b[0mf2\u001b[0m\u001b[0;34m:\u001b[0m\u001b[0;34m\u001b[0m\u001b[0;34m\u001b[0m\u001b[0m\n\u001b[0m\u001b[1;32m      2\u001b[0m     \u001b[0mvac\u001b[0m \u001b[0;34m=\u001b[0m \u001b[0mpickle\u001b[0m\u001b[0;34m.\u001b[0m\u001b[0mload\u001b[0m\u001b[0;34m(\u001b[0m\u001b[0mf2\u001b[0m\u001b[0;34m)\u001b[0m \u001b[0;31m# load - загрузить из файла\u001b[0m\u001b[0;34m\u001b[0m\u001b[0;34m\u001b[0m\u001b[0m\n\u001b[1;32m      3\u001b[0m \u001b[0;34m\u001b[0m\u001b[0m\n\u001b[1;32m      4\u001b[0m \u001b[0mvac\u001b[0m\u001b[0;34m\u001b[0m\u001b[0;34m\u001b[0m\u001b[0m\n",
      "\u001b[0;31mFileNotFoundError\u001b[0m: [Errno 2] No such file or directory: 'hh_java_all.pickle'"
     ]
    }
   ],
   "source": [
    "# Загружаем данные, которые ранее сохранили в pickle\n",
    "with open('hh_java_all.pickle', 'rb') as f2:\n",
    "    vac = pickle.load(f2) # load - загрузить из файла\n",
    "\n",
    "vac"
   ]
  },
  {
   "cell_type": "code",
   "execution_count": null,
   "id": "nWvJUdLmjGNJ",
   "metadata": {
    "id": "nWvJUdLmjGNJ"
   },
   "outputs": [],
   "source": [
    "vac.info()"
   ]
  },
  {
   "cell_type": "markdown",
   "id": "9ErhCRvRFrsD",
   "metadata": {
    "id": "9ErhCRvRFrsD"
   },
   "source": [
    "## Графики"
   ]
  },
  {
   "cell_type": "code",
   "execution_count": null,
   "id": "T_XyrCfwyFfY",
   "metadata": {
    "colab": {
     "base_uri": "https://localhost:8080/",
     "height": 623
    },
    "id": "T_XyrCfwyFfY",
    "outputId": "b26dca4b-472e-4489-d181-0e849dc50384"
   },
   "outputs": [
    {
     "data": {
      "text/plain": [
       "<matplotlib.axes._subplots.AxesSubplot at 0x7f8407534dd0>"
      ]
     },
     "execution_count": 155,
     "metadata": {
      "tags": []
     },
     "output_type": "execute_result"
    },
    {
     "data": {
      "image/png": "[encoded data removed]",
      "text/plain": [
       "<Figure size 720x720 with 1 Axes>"
      ]
     },
     "metadata": {
      "needs_background": "light",
      "tags": []
     },
     "output_type": "display_data"
    }
   ],
   "source": [
    "vac.plot('avg_salary', 'region', kind = 'scatter', figsize =  (10, 10))"
   ]
  },
  {
   "cell_type": "code",
   "execution_count": null,
   "id": "S5mZLNbiuaP0",
   "metadata": {
    "colab": {
     "base_uri": "https://localhost:8080/",
     "height": 297
    },
    "id": "S5mZLNbiuaP0",
    "outputId": "333592f6-c89f-42d1-d3b6-4dfcf47b6835"
   },
   "outputs": [
    {
     "data": {
      "text/plain": [
       "<matplotlib.axes._subplots.AxesSubplot at 0x7f83fd2b8990>"
      ]
     },
     "execution_count": 156,
     "metadata": {
      "tags": []
     },
     "output_type": "execute_result"
    },
    {
     "data": {
      "image/png": "[encoded data removed]",
      "text/plain": [
       "<Figure size 432x288 with 1 Axes>"
      ]
     },
     "metadata": {
      "needs_background": "light",
      "tags": []
     },
     "output_type": "display_data"
    }
   ],
   "source": [
    "vac.plot('avg_salary', 'experience_name', kind = 'scatter')"
   ]
  },
  {
   "cell_type": "code",
   "execution_count": null,
   "id": "sVe71vUhukMF",
   "metadata": {
    "colab": {
     "base_uri": "https://localhost:8080/",
     "height": 878
    },
    "id": "sVe71vUhukMF",
    "outputId": "2d2fca69-ad62-493c-fc7b-3c776e331628"
   },
   "outputs": [
    {
     "data": {
      "image/png": "[encoded data removed]",
      "text/plain": [
       "<Figure size 720x1080 with 1 Axes>"
      ]
     },
     "metadata": {
      "needs_background": "light",
      "tags": []
     },
     "output_type": "display_data"
    }
   ],
   "source": [
    "f, ax = plt.subplots(figsize=(10, 15))\n",
    "fig = sns.boxplot(x='avg_salary', y='region', data=vac)"
   ]
  },
  {
   "cell_type": "markdown",
   "id": "IrKzUMUVItFz",
   "metadata": {
    "id": "IrKzUMUVItFz"
   },
   "source": [
    "## Заполнение грейдов"
   ]
  },
  {
   "cell_type": "code",
   "execution_count": null,
   "id": "0N7f_2b6CzmH",
   "metadata": {
    "id": "0N7f_2b6CzmH"
   },
   "outputs": [],
   "source": [
    "vac = process_vacancies_text(vac)"
   ]
  },
  {
   "cell_type": "code",
   "execution_count": null,
   "id": "EYVhmPVn60xD",
   "metadata": {
    "id": "EYVhmPVn60xD"
   },
   "outputs": [],
   "source": [
    "vac = fill_grades(vac)"
   ]
  },
  {
   "cell_type": "code",
   "execution_count": null,
   "id": "_qxgOg5O631D",
   "metadata": {
    "colab": {
     "base_uri": "https://localhost:8080/",
     "height": 731
    },
    "id": "_qxgOg5O631D",
    "outputId": "8b0cf498-d34c-443e-95ad-a507c5002eac"
   },
   "outputs": [
    {
     "data": {
      "text/plain": [
       "Text(0.5, 0, 'Заработная плата')"
      ]
     },
     "execution_count": 160,
     "metadata": {
      "tags": []
     },
     "output_type": "execute_result"
    },
    {
     "data": {
      "image/png": "[encoded data removed]",
      "text/plain": [
       "<Figure size 1080x864 with 1 Axes>"
      ]
     },
     "metadata": {
      "needs_background": "light",
      "tags": []
     },
     "output_type": "display_data"
    }
   ],
   "source": [
    "f, ax = plt.subplots(figsize=(15, 12))\n",
    "fig = sns.boxplot(x='avg_salary', y='grade', data=vac, \n",
    "                  order = ['junior', 'junior/middle', 'middle', 'middle/senior', 'senior', \n",
    "                           'senior/team lead', 'senior/architect', 'architect', 'architect/team lead',\n",
    "                           'team lead', 'middle/senior/team lead', 'not defined'])\n",
    "fig.set_xlabel('Заработная плата')"
   ]
  },
  {
   "cell_type": "markdown",
   "id": "REIxwx7N47VX",
   "metadata": {
    "id": "REIxwx7N47VX"
   },
   "source": [
    "### Удаление выбросов"
   ]
  },
  {
   "cell_type": "code",
   "execution_count": null,
   "id": "AR1nkuXXIeDD",
   "metadata": {
    "id": "AR1nkuXXIeDD"
   },
   "outputs": [],
   "source": [
    "index1 = vac[vac['avg_salary'] > 450000].index\n",
    "vac_filtered = vac.drop(index1)\n",
    "index2 = vac_filtered[(vac_filtered['grade'] == 'senior') & (vac_filtered['avg_salary'] < 10000)].index\n",
    "vac_filtered = vac_filtered.drop(index2)\n",
    "index4 = vac_filtered[(vac_filtered['grade'] == 'middle') & (vac_filtered['avg_salary'] > 320000)].index\n",
    "vac_filtered = vac_filtered.drop(index4)"
   ]
  },
  {
   "cell_type": "code",
   "execution_count": null,
   "id": "vCkHNsT7Cs9G",
   "metadata": {
    "colab": {
     "base_uri": "https://localhost:8080/"
    },
    "id": "vCkHNsT7Cs9G",
    "outputId": "81e23ba2-4f6f-435e-b5ff-81ee1fe8f205"
   },
   "outputs": [
    {
     "data": {
      "text/plain": [
       "KruskalResult(statistic=4.575460747472468, pvalue=0.10149655989485065)"
      ]
     },
     "execution_count": 168,
     "metadata": {
      "tags": []
     },
     "output_type": "execute_result"
    }
   ],
   "source": [
    "fld1=np.array(vac_filtered[vac_filtered['grade']=='junior']['avg_salary'])\n",
    "fld2=np.array(vac_filtered[vac_filtered['grade']=='junior/middle']['avg_salary'])\n",
    "fld3=np.array(vac_filtered[vac_filtered['grade']=='middle']['avg_salary'])\n",
    "fld4=np.array(vac_filtered[vac_filtered['grade']=='middle/senior']['avg_salary'])\n",
    "fld5=np.array(vac_filtered[vac_filtered['grade']=='senior']['avg_salary'])\n",
    "fld6=np.array(vac_filtered[vac_filtered['grade']=='senior/team lead']['avg_salary'])\n",
    "fld7=np.array(vac_filtered[vac_filtered['grade']=='architect']['avg_salary'])\n",
    "fld8=np.array(vac_filtered[vac_filtered['grade']=='architect/team lead']['avg_salary'])\n",
    "fld9=np.array(vac_filtered[vac_filtered['grade']=='team lead']['avg_salary'])\n",
    "fld10=np.array(vac_filtered[vac_filtered['grade']=='middle/senior/team lead']['avg_salary'])\n",
    "\n",
    "stats.mstats.kruskalwallis(fld5,fld6,fld9)"
   ]
  },
  {
   "cell_type": "code",
   "execution_count": null,
   "id": "eMQXs72xFGut",
   "metadata": {
    "id": "eMQXs72xFGut"
   },
   "outputs": [],
   "source": [
    "grade_map = {'junior' : 'junior',\n",
    "             'junior/middle' : 'junior', \n",
    "             'middle' : 'middle',\n",
    "             'middle/senior' : 'middle/senior',\n",
    "             'senior' : 'senior',\n",
    "             'senior/team lead' : 'senior', \n",
    "             'architect' : 'senior',\n",
    "             'architect/team lead' : 'senior', \n",
    "             'team lead' : 'senior',\n",
    "             'middle/senior/team lead' : 'senior',\n",
    "             'senior/architect' : 'senior',\n",
    "             'not defined' : 'not defined'}\n",
    "vac_filtered['grade'] = vac_filtered['grade'].map(grade_map)"
   ]
  },
  {
   "cell_type": "code",
   "execution_count": null,
   "id": "lxOmwrdLF8Ml",
   "metadata": {
    "colab": {
     "base_uri": "https://localhost:8080/"
    },
    "id": "lxOmwrdLF8Ml",
    "outputId": "b1262a7a-644f-4be0-c7dd-1894ab9dc589"
   },
   "outputs": [
    {
     "data": {
      "text/plain": [
       "Text(0.5, 0, 'Заработная плата')"
      ]
     },
     "execution_count": 170,
     "metadata": {
      "tags": []
     },
     "output_type": "execute_result"
    },
    {
     "data": {
      "image/png": "[encoded data removed]",
      "text/plain": [
       "<Figure size 1080x864 with 1 Axes>"
      ]
     },
     "metadata": {
      "needs_background": "light",
      "tags": []
     },
     "output_type": "display_data"
    }
   ],
   "source": [
    "f, ax = plt.subplots(figsize=(15, 12))\n",
    "fig = sns.boxplot(x='avg_salary', y='grade', data=vac_filtered)\n",
    "fig.set_xlabel('Заработная плата')"
   ]
  },
  {
   "cell_type": "code",
   "execution_count": null,
   "id": "RkKUjXeEIEuG",
   "metadata": {
    "id": "RkKUjXeEIEuG"
   },
   "outputs": [],
   "source": [
    "index3 = vac_filtered[(vac_filtered['grade'] == 'junior') & (vac_filtered['avg_salary'] > 160000)].index\n",
    "vac_filtered = vac_filtered.drop(index3)"
   ]
  },
  {
   "cell_type": "code",
   "execution_count": null,
   "id": "8aI0O8PWIM1h",
   "metadata": {
    "colab": {
     "base_uri": "https://localhost:8080/"
    },
    "id": "8aI0O8PWIM1h",
    "outputId": "3855240c-441b-49cd-d6c2-7ed89b8c2ac1"
   },
   "outputs": [
    {
     "data": {
      "text/plain": [
       "Text(0.5, 0, 'Заработная плата')"
      ]
     },
     "execution_count": 172,
     "metadata": {
      "tags": []
     },
     "output_type": "execute_result"
    },
    {
     "data": {
      "image/png": "[encoded data removed]",
      "text/plain": [
       "<Figure size 1080x864 with 1 Axes>"
      ]
     },
     "metadata": {
      "needs_background": "light",
      "tags": []
     },
     "output_type": "display_data"
    }
   ],
   "source": [
    "f, ax = plt.subplots(figsize=(15, 12))\n",
    "fig = sns.boxplot(x='avg_salary', y='grade', data=vac_filtered)\n",
    "fig.set_xlabel('Заработная плата')"
   ]
  },
  {
   "cell_type": "markdown",
   "id": "34dGnPBoLTRo",
   "metadata": {
    "id": "34dGnPBoLTRo"
   },
   "source": [
    "## Классификация"
   ]
  },
  {
   "cell_type": "code",
   "execution_count": null,
   "id": "fWRi797wK2j3",
   "metadata": {
    "id": "fWRi797wK2j3"
   },
   "outputs": [],
   "source": [
    "grade_map = {'junior': 'name', 'middle': 'name', 'middle/senior': 'name', 'senior': 'name', 'not defined':'description'}\n",
    "vac_filtered['grade_source'] = vac_filtered['grade'].map(grade_map)"
   ]
  },
  {
   "cell_type": "code",
   "execution_count": null,
   "id": "jZ1wZSf26_YJ",
   "metadata": {
    "id": "jZ1wZSf26_YJ"
   },
   "outputs": [],
   "source": [
    "vac_with_defined_grade = vac_filtered[vac_filtered['grade'] != 'not defined']\n",
    "vac_with_not_defined_grade = vac_filtered[vac_filtered['grade'] == 'not defined']"
   ]
  },
  {
   "cell_type": "code",
   "execution_count": null,
   "id": "S29OjqmS4sth",
   "metadata": {
    "colab": {
     "base_uri": "https://localhost:8080/"
    },
    "id": "S29OjqmS4sth",
    "outputId": "594074e3-e510-445b-f96b-ad0416dc1320"
   },
   "outputs": [
    {
     "data": {
      "text/plain": [
       "1775"
      ]
     },
     "execution_count": 175,
     "metadata": {
      "tags": []
     },
     "output_type": "execute_result"
    }
   ],
   "source": [
    "len(vac_with_not_defined_grade)"
   ]
  },
  {
   "cell_type": "code",
   "execution_count": null,
   "id": "3vtWfPkj0_0r",
   "metadata": {
    "colab": {
     "base_uri": "https://localhost:8080/",
     "height": 1000
    },
    "id": "3vtWfPkj0_0r",
    "outputId": "dce8c543-e2bb-4905-e615-0a55ba20e73f"
   },
   "outputs": [
    {
     "data": {
      "text/html": [
       "<div>\n",
       "<style scoped>\n",
       "    .dataframe tbody tr th:only-of-type {\n",
       "        vertical-align: middle;\n",
       "    }\n",
       "\n",
       "    .dataframe tbody tr th {\n",
       "        vertical-align: top;\n",
       "    }\n",
       "\n",
       "    .dataframe thead th {\n",
       "        text-align: right;\n",
       "    }\n",
       "</style>\n",
       "<table border=\"1\" class=\"dataframe\">\n",
       "  <thead>\n",
       "    <tr style=\"text-align: right;\">\n",
       "      <th></th>\n",
       "      <th>id</th>\n",
       "      <th>name</th>\n",
       "      <th>employer_name</th>\n",
       "      <th>region</th>\n",
       "      <th>area_name</th>\n",
       "      <th>schedule_name</th>\n",
       "      <th>avg_salary</th>\n",
       "      <th>description</th>\n",
       "      <th>key_skills</th>\n",
       "      <th>experience_name</th>\n",
       "      <th>key_skills_processed</th>\n",
       "      <th>description_processed</th>\n",
       "      <th>grade</th>\n",
       "      <th>grade_source</th>\n",
       "    </tr>\n",
       "  </thead>\n",
       "  <tbody>\n",
       "    <tr>\n",
       "      <th>0</th>\n",
       "      <td>45862548</td>\n",
       "      <td>Java Developer Junior</td>\n",
       "      <td>Ай-Новус</td>\n",
       "      <td>Республика Татарстан</td>\n",
       "      <td>Казань</td>\n",
       "      <td>Полный день</td>\n",
       "      <td>NaN</td>\n",
       "      <td>&lt;p&gt;&lt;strong&gt;Компания «Ай-Новус» реализует компл...</td>\n",
       "      <td>Java SQL PostgreSQL Spring Framework Java EE S...</td>\n",
       "      <td>От 1 года до 3 лет</td>\n",
       "      <td>jav sql postgresql spring framework jav EE svn...</td>\n",
       "      <td>компан ай-новус реализ комплексн ит-проект рег...</td>\n",
       "      <td>junior</td>\n",
       "      <td>name</td>\n",
       "    </tr>\n",
       "    <tr>\n",
       "      <th>1</th>\n",
       "      <td>46122745</td>\n",
       "      <td>Senior Java / Kotlin Developer</td>\n",
       "      <td>Солантек</td>\n",
       "      <td>Республика Татарстан</td>\n",
       "      <td>Казань</td>\n",
       "      <td>Удаленная работа</td>\n",
       "      <td>320000.0</td>\n",
       "      <td>&lt;p&gt;В компании &lt;strong&gt;Solanteq&lt;/strong&gt; мы раз...</td>\n",
       "      <td>Java Spring Framework Back-end Unit Testing</td>\n",
       "      <td>Более 6 лет</td>\n",
       "      <td>jav spring framework back-end un test</td>\n",
       "      <td>в компан solanteq разрабатыва продукт реша зад...</td>\n",
       "      <td>senior</td>\n",
       "      <td>name</td>\n",
       "    </tr>\n",
       "    <tr>\n",
       "      <th>3</th>\n",
       "      <td>45918673</td>\n",
       "      <td>Java-разработчик (junior)</td>\n",
       "      <td>Бэнкс Софт Системс</td>\n",
       "      <td>Республика Татарстан</td>\n",
       "      <td>Казань</td>\n",
       "      <td>Полный день</td>\n",
       "      <td>NaN</td>\n",
       "      <td>&lt;p&gt;&lt;strong&gt;Banks Soft Systems – &lt;/strong&gt;росси...</td>\n",
       "      <td>Java ООП</td>\n",
       "      <td>Нет опыта</td>\n",
       "      <td>jav ооп</td>\n",
       "      <td>bank soft syst российск разработчик комплексн ...</td>\n",
       "      <td>junior</td>\n",
       "      <td>name</td>\n",
       "    </tr>\n",
       "    <tr>\n",
       "      <th>15</th>\n",
       "      <td>45228004</td>\n",
       "      <td>Java Team Lead</td>\n",
       "      <td>КАЗАНЬЭКСПРЕСС ФУЛФИЛМЕНТ</td>\n",
       "      <td>Республика Татарстан</td>\n",
       "      <td>Казань</td>\n",
       "      <td>Полный день</td>\n",
       "      <td>174000.0</td>\n",
       "      <td>&lt;p&gt;Люди — это фундамент KazanExpress, на котор...</td>\n",
       "      <td>PostgreSQL Spring Framework Git Java Apache Ma...</td>\n",
       "      <td>От 3 до 6 лет</td>\n",
       "      <td>postgresql spring framework git jav apach mav ...</td>\n",
       "      <td>люд эт фундамент kazanexpress котор сто компан...</td>\n",
       "      <td>senior</td>\n",
       "      <td>name</td>\n",
       "    </tr>\n",
       "    <tr>\n",
       "      <th>17</th>\n",
       "      <td>43238052</td>\n",
       "      <td>Java Developer Middle</td>\n",
       "      <td>Ай-Новус</td>\n",
       "      <td>Республика Татарстан</td>\n",
       "      <td>Казань</td>\n",
       "      <td>Полный день</td>\n",
       "      <td>60900.0</td>\n",
       "      <td>&lt;p&gt;&lt;strong&gt;Компания «Ай-Новус» реализует компл...</td>\n",
       "      <td>Java JavaScript HTML Spring Framework Git Java...</td>\n",
       "      <td>От 1 года до 3 лет</td>\n",
       "      <td>jav javascript html spring framework git jav S...</td>\n",
       "      <td>компан ай-новус реализ комплексн ит-проект рег...</td>\n",
       "      <td>middle</td>\n",
       "      <td>name</td>\n",
       "    </tr>\n",
       "    <tr>\n",
       "      <th>...</th>\n",
       "      <td>...</td>\n",
       "      <td>...</td>\n",
       "      <td>...</td>\n",
       "      <td>...</td>\n",
       "      <td>...</td>\n",
       "      <td>...</td>\n",
       "      <td>...</td>\n",
       "      <td>...</td>\n",
       "      <td>...</td>\n",
       "      <td>...</td>\n",
       "      <td>...</td>\n",
       "      <td>...</td>\n",
       "      <td>...</td>\n",
       "      <td>...</td>\n",
       "    </tr>\n",
       "    <tr>\n",
       "      <th>3223</th>\n",
       "      <td>44107627</td>\n",
       "      <td>Ведущий Java-разработчик</td>\n",
       "      <td>Иннотех, Группа компаний</td>\n",
       "      <td>Ростовская область</td>\n",
       "      <td>Ростов-на-Дону</td>\n",
       "      <td>Удаленная работа</td>\n",
       "      <td>NaN</td>\n",
       "      <td>&lt;p&gt;Мы ищем &lt;strong&gt;Ведущего Java-разработчика&lt;...</td>\n",
       "      <td>Управление проектами SQL Разработка технически...</td>\n",
       "      <td>От 3 до 6 лет</td>\n",
       "      <td>управлен проект sql разработк техническ задан ...</td>\n",
       "      <td>мы ищ ведущ jава-разработчик масштабн проект р...</td>\n",
       "      <td>senior</td>\n",
       "      <td>name</td>\n",
       "    </tr>\n",
       "    <tr>\n",
       "      <th>3224</th>\n",
       "      <td>45614989</td>\n",
       "      <td>Middle Java/Kotlin Developer</td>\n",
       "      <td>Тинькофф</td>\n",
       "      <td>Ростовская область</td>\n",
       "      <td>Ростов-на-Дону</td>\n",
       "      <td>Полный день</td>\n",
       "      <td>NaN</td>\n",
       "      <td>&lt;p&gt;Сейчас мы развиваем несколько сервисов в ра...</td>\n",
       "      <td></td>\n",
       "      <td>От 1 года до 3 лет</td>\n",
       "      <td></td>\n",
       "      <td>сейчас развива нескольк сервис разн департамен...</td>\n",
       "      <td>middle</td>\n",
       "      <td>name</td>\n",
       "    </tr>\n",
       "    <tr>\n",
       "      <th>3225</th>\n",
       "      <td>45753770</td>\n",
       "      <td>Team Lead Java / Руководитель группы разработч...</td>\n",
       "      <td>Bell Integrator</td>\n",
       "      <td>Ростовская область</td>\n",
       "      <td>Ростов-на-Дону</td>\n",
       "      <td>Удаленная работа</td>\n",
       "      <td>NaN</td>\n",
       "      <td>&lt;p&gt;Участие в проектах для дочернего подразделе...</td>\n",
       "      <td>Java Spring Kafka Микросервисы Team Lead Руков...</td>\n",
       "      <td>От 3 до 6 лет</td>\n",
       "      <td>jav spring kafk микросервис te lead руководите...</td>\n",
       "      <td>участ проект дочерн подразделен крупн reta сет...</td>\n",
       "      <td>senior</td>\n",
       "      <td>name</td>\n",
       "    </tr>\n",
       "    <tr>\n",
       "      <th>3235</th>\n",
       "      <td>45567884</td>\n",
       "      <td>Java Tech Lead</td>\n",
       "      <td>CSI (Кристалл Сервис Интеграция)</td>\n",
       "      <td>Ростовская область</td>\n",
       "      <td>Ростов-на-Дону</td>\n",
       "      <td>Гибкий график</td>\n",
       "      <td>NaN</td>\n",
       "      <td>&lt;p&gt;&lt;strong&gt;СОЗДАВАЙТЕ ПРОДУКТ ДЛЯ МИЛЛИОНОВ&lt;/s...</td>\n",
       "      <td>Java Java EE Apache Kafka Лидерство PostgreSQL...</td>\n",
       "      <td>От 3 до 6 лет</td>\n",
       "      <td>jav jav EE apach kafk лидерств postgresql spri...</td>\n",
       "      <td>создава продукт для миллион мы продуктов компа...</td>\n",
       "      <td>senior</td>\n",
       "      <td>name</td>\n",
       "    </tr>\n",
       "    <tr>\n",
       "      <th>3237</th>\n",
       "      <td>42170953</td>\n",
       "      <td>Middle/Senior Java Developer (Order &amp; Risk Man...</td>\n",
       "      <td>Devexperts</td>\n",
       "      <td>Ростовская область</td>\n",
       "      <td>Ростов-на-Дону</td>\n",
       "      <td>Полный день</td>\n",
       "      <td>NaN</td>\n",
       "      <td>&lt;p&gt;We are looking for an experienced Java Soft...</td>\n",
       "      <td></td>\n",
       "      <td>От 3 до 6 лет</td>\n",
       "      <td></td>\n",
       "      <td>We look experienc jav softwar engin fill op di...</td>\n",
       "      <td>middle/senior</td>\n",
       "      <td>name</td>\n",
       "    </tr>\n",
       "  </tbody>\n",
       "</table>\n",
       "<p>1458 rows × 14 columns</p>\n",
       "</div>"
      ],
      "text/plain": [
       "            id  ... grade_source\n",
       "0     45862548  ...         name\n",
       "1     46122745  ...         name\n",
       "3     45918673  ...         name\n",
       "15    45228004  ...         name\n",
       "17    43238052  ...         name\n",
       "...        ...  ...          ...\n",
       "3223  44107627  ...         name\n",
       "3224  45614989  ...         name\n",
       "3225  45753770  ...         name\n",
       "3235  45567884  ...         name\n",
       "3237  42170953  ...         name\n",
       "\n",
       "[1458 rows x 14 columns]"
      ]
     },
     "execution_count": 176,
     "metadata": {
      "tags": []
     },
     "output_type": "execute_result"
    }
   ],
   "source": [
    "vac_with_defined_grade"
   ]
  },
  {
   "cell_type": "code",
   "execution_count": null,
   "id": "x48FA_mLG_5B",
   "metadata": {
    "id": "x48FA_mLG_5B"
   },
   "outputs": [],
   "source": [
    "classifier, word_vectorizer, score_train, score_train_cross, score_test = classify_vacancies(vac_with_defined_grade)"
   ]
  },
  {
   "cell_type": "code",
   "execution_count": null,
   "id": "LZ0e4GRvHKgw",
   "metadata": {
    "colab": {
     "base_uri": "https://localhost:8080/"
    },
    "id": "LZ0e4GRvHKgw",
    "outputId": "103f22d8-40a9-486c-acaa-59311ecd51cf"
   },
   "outputs": [
    {
     "name": "stdout",
     "output_type": "stream",
     "text": [
      "f1 score (train) = 0.9990850869167429\n",
      "f1 cross score (train) = 0.6860984271943175\n",
      "f1 score (test) = 0.6986301369863014\n"
     ]
    }
   ],
   "source": [
    "print('f1 score (train) = ' + str(score_train))\n",
    "print('f1 cross score (train) = ' + str(score_train_cross))\n",
    "print('f1 score (test) = ' + str(score_test))"
   ]
  },
  {
   "cell_type": "code",
   "execution_count": null,
   "id": "rU2KyBEdMluW",
   "metadata": {
    "colab": {
     "base_uri": "https://localhost:8080/",
     "height": 1000
    },
    "id": "rU2KyBEdMluW",
    "outputId": "87b0f70f-34bf-4f6d-87df-8326e499c512"
   },
   "outputs": [
    {
     "data": {
      "text/html": [
       "<div>\n",
       "<style scoped>\n",
       "    .dataframe tbody tr th:only-of-type {\n",
       "        vertical-align: middle;\n",
       "    }\n",
       "\n",
       "    .dataframe tbody tr th {\n",
       "        vertical-align: top;\n",
       "    }\n",
       "\n",
       "    .dataframe thead th {\n",
       "        text-align: right;\n",
       "    }\n",
       "</style>\n",
       "<table border=\"1\" class=\"dataframe\">\n",
       "  <thead>\n",
       "    <tr style=\"text-align: right;\">\n",
       "      <th></th>\n",
       "      <th>id</th>\n",
       "      <th>name</th>\n",
       "      <th>employer_name</th>\n",
       "      <th>region</th>\n",
       "      <th>area_name</th>\n",
       "      <th>schedule_name</th>\n",
       "      <th>avg_salary</th>\n",
       "      <th>description</th>\n",
       "      <th>key_skills</th>\n",
       "      <th>experience_name</th>\n",
       "      <th>key_skills_processed</th>\n",
       "      <th>description_processed</th>\n",
       "      <th>grade</th>\n",
       "      <th>grade_source</th>\n",
       "    </tr>\n",
       "  </thead>\n",
       "  <tbody>\n",
       "    <tr>\n",
       "      <th>2</th>\n",
       "      <td>46099831</td>\n",
       "      <td>Java Developer</td>\n",
       "      <td>Piano</td>\n",
       "      <td>Республика Татарстан</td>\n",
       "      <td>Казань</td>\n",
       "      <td>Полный день</td>\n",
       "      <td>150000.0</td>\n",
       "      <td>&lt;p&gt;Piano - это быстро растущая SaaS компания с...</td>\n",
       "      <td>Git Английский язык Java Hibernate ORM SQL</td>\n",
       "      <td>От 3 до 6 лет</td>\n",
       "      <td>git английск язык jav hibern orm sql</td>\n",
       "      <td>pia эт быстр растущ sa компан 10 офис всем мир...</td>\n",
       "      <td>senior</td>\n",
       "      <td>description</td>\n",
       "    </tr>\n",
       "    <tr>\n",
       "      <th>4</th>\n",
       "      <td>45950699</td>\n",
       "      <td>Java-программист</td>\n",
       "      <td>АйТиБрик</td>\n",
       "      <td>Республика Татарстан</td>\n",
       "      <td>Казань</td>\n",
       "      <td>Полный день</td>\n",
       "      <td>91350.0</td>\n",
       "      <td>&lt;p&gt;Привет! Мы - IT Brick. Разрабатываем веб-се...</td>\n",
       "      <td>SQL Java Java EE JavaScript HTML PostgreSQL Sp...</td>\n",
       "      <td>От 1 года до 3 лет</td>\n",
       "      <td>sql jav jav EE javascript html postgresql spri...</td>\n",
       "      <td>привет мы IT brick разрабатыва веб-сервис моби...</td>\n",
       "      <td>middle/senior</td>\n",
       "      <td>description</td>\n",
       "    </tr>\n",
       "    <tr>\n",
       "      <th>5</th>\n",
       "      <td>45797670</td>\n",
       "      <td>Java-разработчик</td>\n",
       "      <td>ЛП Технологии</td>\n",
       "      <td>Республика Татарстан</td>\n",
       "      <td>Иннополис</td>\n",
       "      <td>Удаленная работа</td>\n",
       "      <td>200000.0</td>\n",
       "      <td>&lt;p&gt;Облачная платформа, партнер Huawei, Nvidia,...</td>\n",
       "      <td>Git Spring Framework SQL Atlassian Jira</td>\n",
       "      <td>От 3 до 6 лет</td>\n",
       "      <td>git spring framework sql atlassia jir</td>\n",
       "      <td>облачн платформ партнер huaw nvid мтс мегафон ...</td>\n",
       "      <td>senior</td>\n",
       "      <td>description</td>\n",
       "    </tr>\n",
       "    <tr>\n",
       "      <th>6</th>\n",
       "      <td>46066601</td>\n",
       "      <td>Java Инженер-программист</td>\n",
       "      <td>CloudAlly a Zix company</td>\n",
       "      <td>Республика Татарстан</td>\n",
       "      <td>Казань</td>\n",
       "      <td>Удаленная работа</td>\n",
       "      <td>121800.0</td>\n",
       "      <td>&lt;p&gt;Компания &lt;strong&gt;CloudAlly &lt;/strong&gt;была ос...</td>\n",
       "      <td>Java Git NoSQL Linux Apache Maven Amazon Web S...</td>\n",
       "      <td>От 1 года до 3 лет</td>\n",
       "      <td>jav git nosql linux apach mav amazon web servi...</td>\n",
       "      <td>компан clouda основа 2011 год одн перв мир слу...</td>\n",
       "      <td>junior</td>\n",
       "      <td>description</td>\n",
       "    </tr>\n",
       "    <tr>\n",
       "      <th>7</th>\n",
       "      <td>46006337</td>\n",
       "      <td>Java Developer (Remote)</td>\n",
       "      <td>SSP SOFTWARE</td>\n",
       "      <td>Республика Татарстан</td>\n",
       "      <td>Казань</td>\n",
       "      <td>Удаленная работа</td>\n",
       "      <td>350000.0</td>\n",
       "      <td>&lt;p&gt;&lt;strong&gt;Проект&lt;/strong&gt;: Разработка програм...</td>\n",
       "      <td>Java Spring Framework</td>\n",
       "      <td>От 3 до 6 лет</td>\n",
       "      <td>jav spring framework</td>\n",
       "      <td>проект разработк программн сервис рамк проект ...</td>\n",
       "      <td>senior</td>\n",
       "      <td>description</td>\n",
       "    </tr>\n",
       "    <tr>\n",
       "      <th>...</th>\n",
       "      <td>...</td>\n",
       "      <td>...</td>\n",
       "      <td>...</td>\n",
       "      <td>...</td>\n",
       "      <td>...</td>\n",
       "      <td>...</td>\n",
       "      <td>...</td>\n",
       "      <td>...</td>\n",
       "      <td>...</td>\n",
       "      <td>...</td>\n",
       "      <td>...</td>\n",
       "      <td>...</td>\n",
       "      <td>...</td>\n",
       "      <td>...</td>\n",
       "    </tr>\n",
       "    <tr>\n",
       "      <th>3231</th>\n",
       "      <td>45751219</td>\n",
       "      <td>Java-разработчик</td>\n",
       "      <td>АйТи Консалт</td>\n",
       "      <td>Ростовская область</td>\n",
       "      <td>Новочеркасск</td>\n",
       "      <td>Полный день</td>\n",
       "      <td>NaN</td>\n",
       "      <td>&lt;p&gt;Международная компания &lt;em&gt;&lt;strong&gt;ProgForc...</td>\n",
       "      <td>Java Spring Framework Java EE Hibernate ORM Mo...</td>\n",
       "      <td>От 1 года до 3 лет</td>\n",
       "      <td>jav spring framework jav EE hibern orm mongodb...</td>\n",
       "      <td>международн компан progforc россия/израиль/сш ...</td>\n",
       "      <td>senior</td>\n",
       "      <td>description</td>\n",
       "    </tr>\n",
       "    <tr>\n",
       "      <th>3232</th>\n",
       "      <td>43261069</td>\n",
       "      <td>Java Developer</td>\n",
       "      <td>Umbrella IT</td>\n",
       "      <td>Ростовская область</td>\n",
       "      <td>Ростов-на-Дону</td>\n",
       "      <td>Полный день</td>\n",
       "      <td>NaN</td>\n",
       "      <td>&lt;p&gt;&lt;strong&gt;Umbrella IT – лучший работодатель п...</td>\n",
       "      <td>Git Java Spring Framework Maven SQL Docker</td>\n",
       "      <td>От 1 года до 3 лет</td>\n",
       "      <td>git jav spring framework mav sql docker</td>\n",
       "      <td>umbrell IT лучш работодател верс headhunt сред...</td>\n",
       "      <td>middle</td>\n",
       "      <td>description</td>\n",
       "    </tr>\n",
       "    <tr>\n",
       "      <th>3233</th>\n",
       "      <td>45732889</td>\n",
       "      <td>Лидер направления Java Developer</td>\n",
       "      <td>Сбербанк</td>\n",
       "      <td>Ростовская область</td>\n",
       "      <td>Ростов-на-Дону</td>\n",
       "      <td>Полный день</td>\n",
       "      <td>NaN</td>\n",
       "      <td>&lt;p&gt;Возможность стать лидером профессиональной ...</td>\n",
       "      <td></td>\n",
       "      <td>От 3 до 6 лет</td>\n",
       "      <td></td>\n",
       "      <td>возможн стат лидер профессиональн динамичн ком...</td>\n",
       "      <td>senior</td>\n",
       "      <td>description</td>\n",
       "    </tr>\n",
       "    <tr>\n",
       "      <th>3234</th>\n",
       "      <td>44547066</td>\n",
       "      <td>Программист Java</td>\n",
       "      <td>Телеофис</td>\n",
       "      <td>Ростовская область</td>\n",
       "      <td>Ростов-на-Дону</td>\n",
       "      <td>Удаленная работа</td>\n",
       "      <td>NaN</td>\n",
       "      <td>&lt;p&gt;В &lt;strong&gt;TELEOFIS&lt;/strong&gt; мы занимаемся р...</td>\n",
       "      <td>Java Spring Framework HTML CSS TCP/IP</td>\n",
       "      <td>От 1 года до 3 лет</td>\n",
       "      <td>jav spring framework html css tcp/ip</td>\n",
       "      <td>в teleof занима разработк производств беспрово...</td>\n",
       "      <td>senior</td>\n",
       "      <td>description</td>\n",
       "    </tr>\n",
       "    <tr>\n",
       "      <th>3236</th>\n",
       "      <td>43261091</td>\n",
       "      <td>Java Developer</td>\n",
       "      <td>Umbrella IT</td>\n",
       "      <td>Ростовская область</td>\n",
       "      <td>Таганрог</td>\n",
       "      <td>Полный день</td>\n",
       "      <td>NaN</td>\n",
       "      <td>&lt;p&gt;&lt;strong&gt;Umbrella IT – лучший работодатель п...</td>\n",
       "      <td>Git Java Spring Framework Maven Docker SQL</td>\n",
       "      <td>От 1 года до 3 лет</td>\n",
       "      <td>git jav spring framework mav docker sql</td>\n",
       "      <td>umbrell IT лучш работодател верс headhunt сред...</td>\n",
       "      <td>middle</td>\n",
       "      <td>description</td>\n",
       "    </tr>\n",
       "  </tbody>\n",
       "</table>\n",
       "<p>1775 rows × 14 columns</p>\n",
       "</div>"
      ],
      "text/plain": [
       "            id                              name  ...          grade grade_source\n",
       "2     46099831                    Java Developer  ...         senior  description\n",
       "4     45950699                  Java-программист  ...  middle/senior  description\n",
       "5     45797670                  Java-разработчик  ...         senior  description\n",
       "6     46066601          Java Инженер-программист  ...         junior  description\n",
       "7     46006337           Java Developer (Remote)  ...         senior  description\n",
       "...        ...                               ...  ...            ...          ...\n",
       "3231  45751219                  Java-разработчик  ...         senior  description\n",
       "3232  43261069                    Java Developer  ...         middle  description\n",
       "3233  45732889  Лидер направления Java Developer  ...         senior  description\n",
       "3234  44547066                  Программист Java  ...         senior  description\n",
       "3236  43261091                    Java Developer  ...         middle  description\n",
       "\n",
       "[1775 rows x 14 columns]"
      ]
     },
     "execution_count": 179,
     "metadata": {
      "tags": []
     },
     "output_type": "execute_result"
    }
   ],
   "source": [
    "X = vac_with_not_defined_grade[['key_skills_processed', 'description_processed', 'experience_name', 'schedule_name']].apply(' '.join, axis = 1)\n",
    "not_defined_features = word_vectorizer.transform(X)\n",
    "\n",
    "pred_not_defined = classifier.predict(not_defined_features)\n",
    "\n",
    "vac_with_emulated_grade = pd.DataFrame(vac_with_not_defined_grade)\n",
    "vac_with_emulated_grade['grade'] = pred_not_defined\n",
    "vac_with_emulated_grade"
   ]
  },
  {
   "cell_type": "code",
   "execution_count": null,
   "id": "cFJK1D1S_XZd",
   "metadata": {
    "id": "cFJK1D1S_XZd"
   },
   "outputs": [],
   "source": [
    "vac_with_salary_grade = vac_with_defined_grade[vac_with_defined_grade['avg_salary'].notnull()]\n",
    "vac_with_salary_emulated_grade = vac_with_emulated_grade[vac_with_emulated_grade['avg_salary'].notnull()]"
   ]
  },
  {
   "cell_type": "code",
   "execution_count": null,
   "id": "W-EUHytY_waP",
   "metadata": {
    "colab": {
     "base_uri": "https://localhost:8080/"
    },
    "id": "W-EUHytY_waP",
    "outputId": "b8b4a7d1-7505-4dc5-9a9c-938951abb5d8"
   },
   "outputs": [
    {
     "data": {
      "text/plain": [
       "377"
      ]
     },
     "execution_count": 181,
     "metadata": {
      "tags": []
     },
     "output_type": "execute_result"
    }
   ],
   "source": [
    "len(vac_with_salary_emulated_grade)"
   ]
  },
  {
   "cell_type": "markdown",
   "id": "FD4MghD_QxQ9",
   "metadata": {
    "id": "FD4MghD_QxQ9"
   },
   "source": [
    "## Медианы, средние"
   ]
  },
  {
   "cell_type": "markdown",
   "id": "WPVbelg7U7b3",
   "metadata": {
    "id": "WPVbelg7U7b3"
   },
   "source": [
    "**С указанным грейдом**"
   ]
  },
  {
   "cell_type": "code",
   "execution_count": null,
   "id": "CqTwJzbcQ46U",
   "metadata": {
    "colab": {
     "base_uri": "https://localhost:8080/",
     "height": 280
    },
    "id": "CqTwJzbcQ46U",
    "outputId": "dbdc1201-4c5e-49ae-8599-5593293ca2d2"
   },
   "outputs": [
    {
     "data": {
      "image/png": "[encoded data removed]",
      "text/plain": [
       "<Figure size 432x288 with 1 Axes>"
      ]
     },
     "metadata": {
      "needs_background": "light",
      "tags": []
     },
     "output_type": "display_data"
    }
   ],
   "source": [
    "fig = sns.boxplot(x='avg_salary', y='grade', data=vac_with_salary_grade)"
   ]
  },
  {
   "cell_type": "code",
   "execution_count": null,
   "id": "6cv42Br-RlZD",
   "metadata": {
    "colab": {
     "base_uri": "https://localhost:8080/"
    },
    "id": "6cv42Br-RlZD",
    "outputId": "c0a1167d-fcb1-4eae-ea35-f09bee828c45"
   },
   "outputs": [
    {
     "data": {
      "text/plain": [
       "grade\n",
       "junior            73420.967742\n",
       "middle           174424.746835\n",
       "middle/senior    217063.839286\n",
       "senior           259654.012346\n",
       "Name: avg_salary, dtype: float64"
      ]
     },
     "execution_count": 89,
     "metadata": {
      "tags": []
     },
     "output_type": "execute_result"
    }
   ],
   "source": [
    "vac_with_salary_grade.groupby('grade')['avg_salary'].mean()"
   ]
  },
  {
   "cell_type": "code",
   "execution_count": null,
   "id": "t_AVfyRrTbVV",
   "metadata": {
    "colab": {
     "base_uri": "https://localhost:8080/"
    },
    "id": "t_AVfyRrTbVV",
    "outputId": "b79f33d5-2e9b-4f35-a378-8cbcfdee7dc9"
   },
   "outputs": [
    {
     "data": {
      "text/plain": [
       "grade\n",
       "junior            69600.0\n",
       "middle           174000.0\n",
       "middle/senior    217500.0\n",
       "senior           260500.0\n",
       "Name: avg_salary, dtype: float64"
      ]
     },
     "execution_count": 90,
     "metadata": {
      "tags": []
     },
     "output_type": "execute_result"
    }
   ],
   "source": [
    "vac_with_salary_grade.groupby('grade')['avg_salary'].median()"
   ]
  },
  {
   "cell_type": "markdown",
   "id": "hUoQHonNVEPT",
   "metadata": {
    "id": "hUoQHonNVEPT"
   },
   "source": [
    "**С автоматически определенным грейдом**"
   ]
  },
  {
   "cell_type": "code",
   "execution_count": null,
   "id": "iUL2D-PgRYo_",
   "metadata": {
    "colab": {
     "base_uri": "https://localhost:8080/",
     "height": 280
    },
    "id": "iUL2D-PgRYo_",
    "outputId": "9543098a-49a8-460f-9ecd-096fb39ef571"
   },
   "outputs": [
    {
     "data": {
      "image/png": "[encoded data removed]",
      "text/plain": [
       "<Figure size 432x288 with 1 Axes>"
      ]
     },
     "metadata": {
      "needs_background": "light",
      "tags": []
     },
     "output_type": "display_data"
    }
   ],
   "source": [
    "fig = sns.boxplot(x='avg_salary', y='grade', data=vac_with_salary_emulated_grade)"
   ]
  },
  {
   "cell_type": "code",
   "execution_count": null,
   "id": "SG_EwJ1tQ0oJ",
   "metadata": {
    "id": "SG_EwJ1tQ0oJ"
   },
   "outputs": [],
   "source": [
    "index1 = vac_with_salary_emulated_grade[(vac_with_salary_emulated_grade['grade'] == 'middle') & (vac_with_salary_emulated_grade['avg_salary'] > 330000)].index\n",
    "vac_with_salary_emulated_grade = vac_with_salary_emulated_grade.drop(index1)"
   ]
  },
  {
   "cell_type": "code",
   "execution_count": null,
   "id": "2h4ZSvIDRMao",
   "metadata": {
    "colab": {
     "base_uri": "https://localhost:8080/",
     "height": 280
    },
    "id": "2h4ZSvIDRMao",
    "outputId": "4677b98f-802f-45b1-9f01-874d67b94962"
   },
   "outputs": [
    {
     "data": {
      "image/png": "[encoded data removed]",
      "text/plain": [
       "<Figure size 432x288 with 1 Axes>"
      ]
     },
     "metadata": {
      "needs_background": "light",
      "tags": []
     },
     "output_type": "display_data"
    }
   ],
   "source": [
    "fig = sns.boxplot(x='avg_salary', y='grade', data=vac_with_salary_emulated_grade)"
   ]
  },
  {
   "cell_type": "code",
   "execution_count": null,
   "id": "1IfyObdQFz24",
   "metadata": {
    "id": "1IfyObdQFz24"
   },
   "outputs": [],
   "source": [
    "index1 = vac_with_salary_emulated_grade[(vac_with_salary_emulated_grade['grade'] == 'middle') & (vac_with_salary_emulated_grade['avg_salary'] < 70000)].index\n",
    "vac_with_salary_emulated_grade = vac_with_salary_emulated_grade.drop(index1)"
   ]
  },
  {
   "cell_type": "code",
   "execution_count": null,
   "id": "cMXjofCPF8iq",
   "metadata": {
    "colab": {
     "base_uri": "https://localhost:8080/",
     "height": 280
    },
    "id": "cMXjofCPF8iq",
    "outputId": "2c9a887c-24fb-44e3-e257-3cd60834be0b"
   },
   "outputs": [
    {
     "data": {
      "image/png": "[encoded data removed]",
      "text/plain": [
       "<Figure size 432x288 with 1 Axes>"
      ]
     },
     "metadata": {
      "needs_background": "light",
      "tags": []
     },
     "output_type": "display_data"
    }
   ],
   "source": [
    "fig = sns.boxplot(x='avg_salary', y='grade', data=vac_with_salary_emulated_grade)"
   ]
  },
  {
   "cell_type": "code",
   "execution_count": null,
   "id": "8blNPlrUTgaO",
   "metadata": {
    "colab": {
     "base_uri": "https://localhost:8080/"
    },
    "id": "8blNPlrUTgaO",
    "outputId": "ef6fed1e-d37d-4961-a023-3a23a4616bf3"
   },
   "outputs": [
    {
     "data": {
      "text/plain": [
       "grade\n",
       "junior           129326.555556\n",
       "middle           174676.681818\n",
       "middle/senior    164540.878049\n",
       "senior           190581.313158\n",
       "Name: avg_salary, dtype: float64"
      ]
     },
     "execution_count": 96,
     "metadata": {
      "tags": []
     },
     "output_type": "execute_result"
    }
   ],
   "source": [
    "vac_with_salary_emulated_grade.groupby('grade')['avg_salary'].mean()"
   ]
  },
  {
   "cell_type": "code",
   "execution_count": null,
   "id": "7xMRJRBJTlUu",
   "metadata": {
    "colab": {
     "base_uri": "https://localhost:8080/"
    },
    "id": "7xMRJRBJTlUu",
    "outputId": "f75020ac-f499-4790-fba7-ed9a5ac0905e"
   },
   "outputs": [
    {
     "data": {
      "text/plain": [
       "grade\n",
       "junior           121800.0\n",
       "middle           178800.0\n",
       "middle/senior    174000.0\n",
       "senior           175000.0\n",
       "Name: avg_salary, dtype: float64"
      ]
     },
     "execution_count": 97,
     "metadata": {
      "tags": []
     },
     "output_type": "execute_result"
    }
   ],
   "source": [
    "vac_with_salary_emulated_grade.groupby('grade')['avg_salary'].median()"
   ]
  },
  {
   "cell_type": "markdown",
   "id": "hzr4O8u_VPSl",
   "metadata": {
    "id": "hzr4O8u_VPSl"
   },
   "source": [
    "**По всей выборке**"
   ]
  },
  {
   "cell_type": "code",
   "execution_count": null,
   "id": "2qcdyhY1VYkv",
   "metadata": {
    "id": "2qcdyhY1VYkv"
   },
   "outputs": [],
   "source": [
    "all_vacancies = pd.concat([vac_with_salary_emulated_grade, vac_with_salary_grade])"
   ]
  },
  {
   "cell_type": "code",
   "execution_count": null,
   "id": "9aLo_BBRVYZn",
   "metadata": {
    "colab": {
     "base_uri": "https://localhost:8080/",
     "height": 280
    },
    "id": "9aLo_BBRVYZn",
    "outputId": "251a1d6e-fe69-4bee-c7f9-73b23c0ae5ff"
   },
   "outputs": [
    {
     "data": {
      "image/png": "[encoded data removed]",
      "text/plain": [
       "<Figure size 432x288 with 1 Axes>"
      ]
     },
     "metadata": {
      "needs_background": "light",
      "tags": []
     },
     "output_type": "display_data"
    }
   ],
   "source": [
    "fig = sns.boxplot(x='avg_salary', y='grade', data=all_vacancies)"
   ]
  },
  {
   "cell_type": "code",
   "execution_count": null,
   "id": "gHpFVfNsAo5w",
   "metadata": {
    "id": "gHpFVfNsAo5w"
   },
   "outputs": [],
   "source": [
    "index1 = all_vacancies[(all_vacancies['grade'] == 'junior') & (all_vacancies['avg_salary'] > 270000)].index\n",
    "all_vacancies = all_vacancies.drop(index1)"
   ]
  },
  {
   "cell_type": "code",
   "execution_count": null,
   "id": "fYkRU_-fAxt4",
   "metadata": {
    "id": "fYkRU_-fAxt4"
   },
   "outputs": [],
   "source": [
    "index1 = all_vacancies[(all_vacancies['grade'] == 'middle/senior') & (all_vacancies['avg_salary'] < 40000)].index\n",
    "all_vacancies = all_vacancies.drop(index1)"
   ]
  },
  {
   "cell_type": "code",
   "execution_count": null,
   "id": "fdrzaJUjA5UY",
   "metadata": {
    "colab": {
     "base_uri": "https://localhost:8080/",
     "height": 280
    },
    "id": "fdrzaJUjA5UY",
    "outputId": "c35a676f-6bb6-4944-e476-2f5088832d20"
   },
   "outputs": [
    {
     "data": {
      "image/png": "[encoded data removed]",
      "text/plain": [
       "<Figure size 432x288 with 1 Axes>"
      ]
     },
     "metadata": {
      "needs_background": "light",
      "tags": []
     },
     "output_type": "display_data"
    }
   ],
   "source": [
    "fig = sns.boxplot(x='avg_salary', y='grade', data=all_vacancies)"
   ]
  },
  {
   "cell_type": "code",
   "execution_count": null,
   "id": "3LfPixaYBCh7",
   "metadata": {
    "id": "3LfPixaYBCh7"
   },
   "outputs": [],
   "source": [
    "index1 = all_vacancies[(all_vacancies['grade'] == 'middle/senior') & (all_vacancies['avg_salary'] < 43000)].index\n",
    "all_vacancies = all_vacancies.drop(index1)"
   ]
  },
  {
   "cell_type": "code",
   "execution_count": null,
   "id": "nt7XsGl_BMQI",
   "metadata": {
    "colab": {
     "base_uri": "https://localhost:8080/",
     "height": 280
    },
    "id": "nt7XsGl_BMQI",
    "outputId": "698a09ec-77a5-42db-f88c-acf090307c84"
   },
   "outputs": [
    {
     "data": {
      "image/png": "[encoded data removed]",
      "text/plain": [
       "<Figure size 432x288 with 1 Axes>"
      ]
     },
     "metadata": {
      "needs_background": "light",
      "tags": []
     },
     "output_type": "display_data"
    }
   ],
   "source": [
    "fig = sns.boxplot(x='avg_salary', y='grade', data=all_vacancies)"
   ]
  },
  {
   "cell_type": "code",
   "execution_count": null,
   "id": "qDkq9jbnBR5z",
   "metadata": {
    "id": "qDkq9jbnBR5z"
   },
   "outputs": [],
   "source": [
    "index1 = all_vacancies[(all_vacancies['grade'] == 'middle/senior') & (all_vacancies['avg_salary'] < 50000)].index\n",
    "all_vacancies = all_vacancies.drop(index1)"
   ]
  },
  {
   "cell_type": "code",
   "execution_count": null,
   "id": "S9zO4MqKBWuL",
   "metadata": {
    "colab": {
     "base_uri": "https://localhost:8080/",
     "height": 280
    },
    "id": "S9zO4MqKBWuL",
    "outputId": "759ce3bd-2022-41a8-ec60-a88c673a7190"
   },
   "outputs": [
    {
     "data": {
      "image/png": "[encoded data removed]",
      "text/plain": [
       "<Figure size 432x288 with 1 Axes>"
      ]
     },
     "metadata": {
      "needs_background": "light",
      "tags": []
     },
     "output_type": "display_data"
    }
   ],
   "source": [
    "fig = sns.boxplot(x='avg_salary', y='grade', data=all_vacancies)"
   ]
  },
  {
   "cell_type": "code",
   "execution_count": null,
   "id": "WA5I19UsTs4I",
   "metadata": {
    "colab": {
     "base_uri": "https://localhost:8080/"
    },
    "id": "WA5I19UsTs4I",
    "outputId": "653065b7-9634-432f-ae79-bc020f16f9c6"
   },
   "outputs": [
    {
     "data": {
      "text/plain": [
       "grade\n",
       "junior           101564.121622\n",
       "middle           174564.867978\n",
       "middle/senior    199928.202128\n",
       "senior           222370.453125\n",
       "Name: avg_salary, dtype: float64"
      ]
     },
     "execution_count": 107,
     "metadata": {
      "tags": []
     },
     "output_type": "execute_result"
    }
   ],
   "source": [
    "all_vacancies.groupby('grade')['avg_salary'].mean()"
   ]
  },
  {
   "cell_type": "code",
   "execution_count": null,
   "id": "uAYZGE9MUEli",
   "metadata": {
    "colab": {
     "base_uri": "https://localhost:8080/"
    },
    "id": "uAYZGE9MUEli",
    "outputId": "2d161432-f1f4-441b-d474-828ae17b7c62"
   },
   "outputs": [
    {
     "data": {
      "text/plain": [
       "grade\n",
       "junior            86000.0\n",
       "middle           178800.0\n",
       "middle/senior    200000.0\n",
       "senior           225000.0\n",
       "Name: avg_salary, dtype: float64"
      ]
     },
     "execution_count": 108,
     "metadata": {
      "tags": []
     },
     "output_type": "execute_result"
    }
   ],
   "source": [
    "all_vacancies.groupby('grade')['avg_salary'].median()"
   ]
  },
  {
   "cell_type": "code",
   "execution_count": null,
   "id": "oy9mYfjfT0Do",
   "metadata": {
    "colab": {
     "base_uri": "https://localhost:8080/"
    },
    "id": "oy9mYfjfT0Do",
    "outputId": "bf7af60b-729b-4d21-fc39-c91a1f2013f4"
   },
   "outputs": [
    {
     "data": {
      "text/plain": [
       "region\n",
       "Алтайский край             240000.0\n",
       "Архангельская область       75000.0\n",
       "Белгородская область       304500.0\n",
       "Брянская область            75000.0\n",
       "Владимирская область       150000.0\n",
       "Волгоградская область      220000.0\n",
       "Вологодская область        160000.0\n",
       "Воронежская область        320000.0\n",
       "Ивановская область         100000.0\n",
       "Иркутская область          240000.0\n",
       "Калининградская область    275000.0\n",
       "Кемеровская область        217500.0\n",
       "Кировская область           90000.0\n",
       "Краснодарский край         319500.0\n",
       "Красноярский край          420000.0\n",
       "Москва                     440000.0\n",
       "Московская область         217500.0\n",
       "Мурманская область         178800.0\n",
       "Нижегородская область      420000.0\n",
       "Новосибирская область      400000.0\n",
       "Омская область             320000.0\n",
       "Оренбургская область       304500.0\n",
       "Орловская область           80000.0\n",
       "Пензенская область         250000.0\n",
       "Пермский край              220000.0\n",
       "Приморский край            240000.0\n",
       "Республика Башкортостан    285000.0\n",
       "Республика Карелия         150000.0\n",
       "Республика Крым            285000.0\n",
       "Республика Татарстан       350000.0\n",
       "Ростовская область         285000.0\n",
       "Рязанская область          178800.0\n",
       "Самарская область          350000.0\n",
       "Санкт-Петербург            420000.0\n",
       "Саратовская область        320000.0\n",
       "Свердловская область       350000.0\n",
       "Смоленская область         255000.0\n",
       "Тверская область           230000.0\n",
       "Томская область            350000.0\n",
       "Тульская область            84825.0\n",
       "Тюменская область          240000.0\n",
       "Удмуртская Республика      250000.0\n",
       "Ульяновская область        250000.0\n",
       "Челябинская область        240000.0\n",
       "Ярославская область        178800.0\n",
       "Name: avg_salary, dtype: float64"
      ]
     },
     "execution_count": 109,
     "metadata": {
      "tags": []
     },
     "output_type": "execute_result"
    }
   ],
   "source": [
    "all_vacancies.groupby('region')['avg_salary'].max()"
   ]
  },
  {
   "cell_type": "code",
   "execution_count": null,
   "id": "VFwuLeA9CI1q",
   "metadata": {
    "colab": {
     "base_uri": "https://localhost:8080/"
    },
    "id": "VFwuLeA9CI1q",
    "outputId": "33b52d8b-0463-4e5a-ca70-8c011be7b172"
   },
   "outputs": [
    {
     "data": {
      "text/plain": [
       "30000.0"
      ]
     },
     "execution_count": 113,
     "metadata": {
      "tags": []
     },
     "output_type": "execute_result"
    }
   ],
   "source": [
    "all_vacancies[all_vacancies['region'] == 'Новосибирская область']['avg_salary'].min()"
   ]
  },
  {
   "cell_type": "markdown",
   "id": "AfCAWOljVp08",
   "metadata": {
    "id": "AfCAWOljVp08"
   },
   "source": [
    "**Экспорт результатов**"
   ]
  },
  {
   "cell_type": "code",
   "execution_count": null,
   "id": "CLfnV2DkVoaE",
   "metadata": {
    "colab": {
     "base_uri": "https://localhost:8080/"
    },
    "id": "CLfnV2DkVoaE",
    "outputId": "da73d65e-06c0-46b9-c477-8c7f3ecdeda3"
   },
   "outputs": [
    {
     "name": "stdout",
     "output_type": "stream",
     "text": [
      "Результаты можно посмотреть в файле hh_java_filled_grade_3.xlsx'\n"
     ]
    }
   ],
   "source": [
    "export_vacancies(all_vacancies, 'hh_java_filled_grade_3.xlsx')"
   ]
  }
 ],
 "metadata": {
  "colab": {
   "collapsed_sections": [
    "o3HyZsak-4eR",
    "xjUuzlcTMffg",
    "9ErhCRvRFrsD",
    "IrKzUMUVItFz",
    "REIxwx7N47VX",
    "34dGnPBoLTRo",
    "FD4MghD_QxQ9"
   ],
   "name": "HeadHunter",
   "provenance": [],
   "toc_visible": true
  },
  "kernelspec": {
   "display_name": "Python 3 (ipykernel)",
   "language": "python",
   "name": "python3"
  },
  "language_info": {
   "codemirror_mode": {
    "name": "ipython",
    "version": 3
   },
   "file_extension": ".py",
   "mimetype": "text/x-python",
   "name": "python",
   "nbconvert_exporter": "python",
   "pygments_lexer": "ipython3",
   "version": "3.8.8"
  }
 },
 "nbformat": 4,
 "nbformat_minor": 5
}
